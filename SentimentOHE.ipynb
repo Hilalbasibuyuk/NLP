{
 "cells": [
  {
   "cell_type": "code",
   "execution_count": 1,
   "id": "bce29c65-8720-4d8f-90b5-14f39ed5f2af",
   "metadata": {},
   "outputs": [],
   "source": [
    "import pandas as pd\n",
    "import numpy as np\n",
    "from collections import Counter\n",
    "from sklearn.feature_extraction.text import CountVectorizer\n",
    "from sklearn.model_selection import train_test_split\n",
    "from sklearn.metrics import accuracy_score, confusion_matrix"
   ]
  },
  {
   "cell_type": "code",
   "execution_count": 2,
   "id": "f30be7bc-6e44-453b-85a7-38e282917ad4",
   "metadata": {},
   "outputs": [],
   "source": [
    "import torch\n",
    "import torch.nn as nn\n",
    "from torch.utils.data import Dataset, DataLoader\n",
    "import seaborn as sns\n",
    "import matplotlib.pyplot as plt"
   ]
  },
  {
   "cell_type": "code",
   "execution_count": 3,
   "id": "64bc95b8-90b8-444f-ae8a-d9434ffeccac",
   "metadata": {},
   "outputs": [
    {
     "data": {
      "text/html": [
       "<div>\n",
       "<style scoped>\n",
       "    .dataframe tbody tr th:only-of-type {\n",
       "        vertical-align: middle;\n",
       "    }\n",
       "\n",
       "    .dataframe tbody tr th {\n",
       "        vertical-align: top;\n",
       "    }\n",
       "\n",
       "    .dataframe thead th {\n",
       "        text-align: right;\n",
       "    }\n",
       "</style>\n",
       "<table border=\"1\" class=\"dataframe\">\n",
       "  <thead>\n",
       "    <tr style=\"text-align: right;\">\n",
       "      <th></th>\n",
       "      <th>textID</th>\n",
       "      <th>text</th>\n",
       "      <th>selected_text</th>\n",
       "      <th>sentiment</th>\n",
       "    </tr>\n",
       "  </thead>\n",
       "  <tbody>\n",
       "    <tr>\n",
       "      <th>0</th>\n",
       "      <td>cb774db0d1</td>\n",
       "      <td>I`d have responded, if I were going</td>\n",
       "      <td>I`d have responded, if I were going</td>\n",
       "      <td>neutral</td>\n",
       "    </tr>\n",
       "    <tr>\n",
       "      <th>1</th>\n",
       "      <td>549e992a42</td>\n",
       "      <td>Sooo SAD I will miss you here in San Diego!!!</td>\n",
       "      <td>Sooo SAD</td>\n",
       "      <td>negative</td>\n",
       "    </tr>\n",
       "    <tr>\n",
       "      <th>2</th>\n",
       "      <td>088c60f138</td>\n",
       "      <td>my boss is bullying me...</td>\n",
       "      <td>bullying me</td>\n",
       "      <td>negative</td>\n",
       "    </tr>\n",
       "    <tr>\n",
       "      <th>3</th>\n",
       "      <td>9642c003ef</td>\n",
       "      <td>what interview! leave me alone</td>\n",
       "      <td>leave me alone</td>\n",
       "      <td>negative</td>\n",
       "    </tr>\n",
       "    <tr>\n",
       "      <th>4</th>\n",
       "      <td>358bd9e861</td>\n",
       "      <td>Sons of ****, why couldn`t they put them on t...</td>\n",
       "      <td>Sons of ****,</td>\n",
       "      <td>negative</td>\n",
       "    </tr>\n",
       "    <tr>\n",
       "      <th>...</th>\n",
       "      <td>...</td>\n",
       "      <td>...</td>\n",
       "      <td>...</td>\n",
       "      <td>...</td>\n",
       "    </tr>\n",
       "    <tr>\n",
       "      <th>27476</th>\n",
       "      <td>4eac33d1c0</td>\n",
       "      <td>wish we could come see u on Denver  husband l...</td>\n",
       "      <td>d lost</td>\n",
       "      <td>negative</td>\n",
       "    </tr>\n",
       "    <tr>\n",
       "      <th>27477</th>\n",
       "      <td>4f4c4fc327</td>\n",
       "      <td>I`ve wondered about rake to.  The client has ...</td>\n",
       "      <td>, don`t force</td>\n",
       "      <td>negative</td>\n",
       "    </tr>\n",
       "    <tr>\n",
       "      <th>27478</th>\n",
       "      <td>f67aae2310</td>\n",
       "      <td>Yay good for both of you. Enjoy the break - y...</td>\n",
       "      <td>Yay good for both of you.</td>\n",
       "      <td>positive</td>\n",
       "    </tr>\n",
       "    <tr>\n",
       "      <th>27479</th>\n",
       "      <td>ed167662a5</td>\n",
       "      <td>But it was worth it  ****.</td>\n",
       "      <td>But it was worth it  ****.</td>\n",
       "      <td>positive</td>\n",
       "    </tr>\n",
       "    <tr>\n",
       "      <th>27480</th>\n",
       "      <td>6f7127d9d7</td>\n",
       "      <td>All this flirting going on - The ATG smiles...</td>\n",
       "      <td>All this flirting going on - The ATG smiles. Y...</td>\n",
       "      <td>neutral</td>\n",
       "    </tr>\n",
       "  </tbody>\n",
       "</table>\n",
       "<p>27480 rows × 4 columns</p>\n",
       "</div>"
      ],
      "text/plain": [
       "           textID                                               text  \\\n",
       "0      cb774db0d1                I`d have responded, if I were going   \n",
       "1      549e992a42      Sooo SAD I will miss you here in San Diego!!!   \n",
       "2      088c60f138                          my boss is bullying me...   \n",
       "3      9642c003ef                     what interview! leave me alone   \n",
       "4      358bd9e861   Sons of ****, why couldn`t they put them on t...   \n",
       "...           ...                                                ...   \n",
       "27476  4eac33d1c0   wish we could come see u on Denver  husband l...   \n",
       "27477  4f4c4fc327   I`ve wondered about rake to.  The client has ...   \n",
       "27478  f67aae2310   Yay good for both of you. Enjoy the break - y...   \n",
       "27479  ed167662a5                         But it was worth it  ****.   \n",
       "27480  6f7127d9d7     All this flirting going on - The ATG smiles...   \n",
       "\n",
       "                                           selected_text sentiment  \n",
       "0                    I`d have responded, if I were going   neutral  \n",
       "1                                               Sooo SAD  negative  \n",
       "2                                            bullying me  negative  \n",
       "3                                         leave me alone  negative  \n",
       "4                                          Sons of ****,  negative  \n",
       "...                                                  ...       ...  \n",
       "27476                                             d lost  negative  \n",
       "27477                                      , don`t force  negative  \n",
       "27478                          Yay good for both of you.  positive  \n",
       "27479                         But it was worth it  ****.  positive  \n",
       "27480  All this flirting going on - The ATG smiles. Y...   neutral  \n",
       "\n",
       "[27480 rows x 4 columns]"
      ]
     },
     "execution_count": 3,
     "metadata": {},
     "output_type": "execute_result"
    }
   ],
   "source": [
    "twitter_file = \"C:/Users/hilal/OneDrive/Belgeler/NLP/Tweets.csv\"\n",
    "df = pd.read_csv(twitter_file).dropna()\n",
    "df"
   ]
  },
  {
   "cell_type": "code",
   "execution_count": 4,
   "id": "50040527-487b-4236-a60f-a18046188154",
   "metadata": {},
   "outputs": [],
   "source": [
    "cat_id = { \"neutral\": 1, \"negative\":0, \"positive\":2}"
   ]
  },
  {
   "cell_type": "code",
   "execution_count": 5,
   "id": "8b2f0b7c-324e-4936-9651-1f467fd209dd",
   "metadata": {},
   "outputs": [],
   "source": [
    "df['class'] = df['sentiment'].map(cat_id)"
   ]
  },
  {
   "cell_type": "code",
   "execution_count": 6,
   "id": "6018e913-b68a-402a-bba2-a7c43190a95c",
   "metadata": {},
   "outputs": [],
   "source": [
    "batch_size = 512\n",
    "num_epochs = 80"
   ]
  },
  {
   "cell_type": "code",
   "execution_count": 7,
   "id": "2b29a4b1-6994-44c5-94bc-02ea8e40eab5",
   "metadata": {},
   "outputs": [],
   "source": [
    "x = df[\"text\"].values\n",
    "y = df[\"class\"].values"
   ]
  },
  {
   "cell_type": "code",
   "execution_count": 8,
   "id": "6b946cda-d010-4f5f-8052-8dab0e40fe2c",
   "metadata": {},
   "outputs": [
    {
     "name": "stdout",
     "output_type": "stream",
     "text": [
      "X train: (13740,), y train: (13740,)\n",
      "X test: (13740,), y test: (13740,)\n"
     ]
    }
   ],
   "source": [
    "x_train, x_test, y_train, y_test = train_test_split(x, y, test_size = 0.5, random_state = 123)\n",
    "print(f\"X train: {x_train.shape}, y train: {y_train.shape}\\nX test: {x_test.shape}, y test: {y_test.shape}\")"
   ]
  },
  {
   "cell_type": "code",
   "execution_count": 9,
   "id": "af61f9fc-452b-4a8e-aba6-4c1dbf722ffd",
   "metadata": {},
   "outputs": [],
   "source": [
    "one_hot = CountVectorizer()\n",
    "x_train_one_hot = one_hot.fit_transform(x_train)\n",
    "x_test_one_hot = one_hot.transform(x_test)"
   ]
  },
  {
   "cell_type": "code",
   "execution_count": 11,
   "id": "7273c744-4653-4d38-92af-aedeca36ce60",
   "metadata": {},
   "outputs": [],
   "source": [
    "class SentimentData(Dataset):\n",
    "    def __init__(self, x, y):\n",
    "        super().__init__()\n",
    "        self.x = torch.Tensor(x.toarray())\n",
    "        self.y = torch.Tensor(y).type(torch.LongTensor)\n",
    "        self.len = len(self.x)\n",
    "\n",
    "    def __len__(self):\n",
    "        return self.len\n",
    "\n",
    "    def __getitem__(self, index):\n",
    "        return self.x[index], self.y[index]"
   ]
  },
  {
   "cell_type": "code",
   "execution_count": 14,
   "id": "8fc394a3-826c-478d-b7ef-bfbd14614a14",
   "metadata": {},
   "outputs": [],
   "source": [
    "train_ds = SentimentData(x= x_train_one_hot, y = y_train)\n",
    "test_ds = SentimentData(x_test_one_hot, y_test)"
   ]
  },
  {
   "cell_type": "code",
   "execution_count": 16,
   "id": "729d6c30-ae18-415e-91e2-4f85a8a354bf",
   "metadata": {},
   "outputs": [],
   "source": [
    "train_loader = DataLoader(dataset=train_ds, batch_size=batch_size, shuffle=True)\n",
    "test_loader = DataLoader(test_ds, batch_size=15000)"
   ]
  },
  {
   "cell_type": "code",
   "execution_count": 19,
   "id": "e2d0fb2a-e5bc-4475-bc76-7ad1d0ef6f7d",
   "metadata": {},
   "outputs": [],
   "source": [
    "class SentimentModel(nn.Module):\n",
    "    def __init__(self, num_features, num_classes, hidden = 10):\n",
    "        super().__init__()\n",
    "        self.linear = nn.Linear(num_features, hidden)\n",
    "        self.linear2 = nn.Linear(hidden, num_classes)\n",
    "        self.relu = nn.ReLU()\n",
    "        self.log_softmax = nn.LogSoftmax(dim = 1)\n",
    "\n",
    "    def forward(self, x):\n",
    "        x = self.linear(x)\n",
    "        x = self.relu(x)\n",
    "        x = self.linear2(x)\n",
    "        x = self.log_softmax(x)\n",
    "        return x"
   ]
  },
  {
   "cell_type": "code",
   "execution_count": 20,
   "id": "dcaa290a-4a1b-463e-a04a-09eeb171a973",
   "metadata": {},
   "outputs": [],
   "source": [
    "model = SentimentModel(num_features = x_train_one_hot.shape[1], num_classes = 3)"
   ]
  },
  {
   "cell_type": "code",
   "execution_count": 21,
   "id": "2d013229-02a5-4cfd-b3af-e986d5afa149",
   "metadata": {},
   "outputs": [],
   "source": [
    "criterion = nn.CrossEntropyLoss()\n",
    "optimizer = torch.optim.AdamW(model.parameters())"
   ]
  },
  {
   "cell_type": "code",
   "execution_count": 22,
   "id": "067c3abd-fbc1-41ac-8ff4-03e445410656",
   "metadata": {},
   "outputs": [
    {
     "name": "stdout",
     "output_type": "stream",
     "text": [
      "Epoch 0, Loss: 30.179739356040955\n",
      "Epoch 1, Loss: 28.767434239387512\n",
      "Epoch 2, Loss: 27.18718409538269\n",
      "Epoch 3, Loss: 25.38810557126999\n",
      "Epoch 4, Loss: 23.527426600456238\n",
      "Epoch 5, Loss: 21.694852650165558\n",
      "Epoch 6, Loss: 19.970998466014862\n",
      "Epoch 7, Loss: 18.373821079730988\n",
      "Epoch 8, Loss: 16.95216178894043\n",
      "Epoch 9, Loss: 15.669901847839355\n",
      "Epoch 10, Loss: 14.552672505378723\n",
      "Epoch 11, Loss: 13.544851928949356\n",
      "Epoch 12, Loss: 12.667046785354614\n",
      "Epoch 13, Loss: 11.879597932100296\n",
      "Epoch 14, Loss: 11.185107588768005\n",
      "Epoch 15, Loss: 10.552547186613083\n",
      "Epoch 16, Loss: 9.981992036104202\n",
      "Epoch 17, Loss: 9.472773849964142\n",
      "Epoch 18, Loss: 8.99655133485794\n",
      "Epoch 19, Loss: 8.571265935897827\n",
      "Epoch 20, Loss: 8.176711082458496\n",
      "Epoch 21, Loss: 7.8172594755887985\n",
      "Epoch 22, Loss: 7.479047551751137\n",
      "Epoch 23, Loss: 7.162030071020126\n",
      "Epoch 24, Loss: 6.869125202298164\n",
      "Epoch 25, Loss: 6.604673683643341\n",
      "Epoch 26, Loss: 6.342753067612648\n",
      "Epoch 27, Loss: 6.1122491508722305\n",
      "Epoch 28, Loss: 5.8847049325704575\n",
      "Epoch 29, Loss: 5.675144478678703\n",
      "Epoch 30, Loss: 5.479127258062363\n",
      "Epoch 31, Loss: 5.298804387450218\n",
      "Epoch 32, Loss: 5.113332450389862\n",
      "Epoch 33, Loss: 4.949938088655472\n",
      "Epoch 34, Loss: 4.792189955711365\n",
      "Epoch 35, Loss: 4.64476577937603\n",
      "Epoch 36, Loss: 4.500513821840286\n",
      "Epoch 37, Loss: 4.363773047924042\n",
      "Epoch 38, Loss: 4.234890274703503\n",
      "Epoch 39, Loss: 4.118346482515335\n",
      "Epoch 40, Loss: 3.992926388978958\n",
      "Epoch 41, Loss: 3.885414235293865\n",
      "Epoch 42, Loss: 3.7768554016947746\n",
      "Epoch 43, Loss: 3.6801747381687164\n",
      "Epoch 44, Loss: 3.579075187444687\n",
      "Epoch 45, Loss: 3.480482839047909\n",
      "Epoch 46, Loss: 3.3922390416264534\n",
      "Epoch 47, Loss: 3.3166623190045357\n",
      "Epoch 48, Loss: 3.2300021052360535\n",
      "Epoch 49, Loss: 3.149672195315361\n",
      "Epoch 50, Loss: 3.0710572823882103\n",
      "Epoch 51, Loss: 3.0002108961343765\n",
      "Epoch 52, Loss: 2.933589667081833\n",
      "Epoch 53, Loss: 2.8664492443203926\n",
      "Epoch 54, Loss: 2.797384336590767\n",
      "Epoch 55, Loss: 2.740467958152294\n",
      "Epoch 56, Loss: 2.6793096736073494\n",
      "Epoch 57, Loss: 2.6188116669654846\n",
      "Epoch 58, Loss: 2.5639142841100693\n",
      "Epoch 59, Loss: 2.508474290370941\n",
      "Epoch 60, Loss: 2.4587287977337837\n",
      "Epoch 61, Loss: 2.408783696591854\n",
      "Epoch 62, Loss: 2.3584457337856293\n",
      "Epoch 63, Loss: 2.3098664730787277\n",
      "Epoch 64, Loss: 2.2680211141705513\n",
      "Epoch 65, Loss: 2.2206306755542755\n",
      "Epoch 66, Loss: 2.1768431439995766\n",
      "Epoch 67, Loss: 2.12984661385417\n",
      "Epoch 68, Loss: 2.094104491174221\n",
      "Epoch 69, Loss: 2.0594899728894234\n",
      "Epoch 70, Loss: 2.0135690681636333\n",
      "Epoch 71, Loss: 1.9779404550790787\n",
      "Epoch 72, Loss: 1.9420783668756485\n",
      "Epoch 73, Loss: 1.9112568572163582\n",
      "Epoch 74, Loss: 1.8734657689929008\n",
      "Epoch 75, Loss: 1.8435671888291836\n",
      "Epoch 76, Loss: 1.8105398453772068\n",
      "Epoch 77, Loss: 1.77863984182477\n",
      "Epoch 78, Loss: 1.7496866695582867\n",
      "Epoch 79, Loss: 1.7155696749687195\n"
     ]
    }
   ],
   "source": [
    "train_losses = []\n",
    "for e in range(num_epochs):\n",
    "    curr_loss = 0\n",
    "    for x_batch, y_batch in train_loader:\n",
    "        optimizer.zero_grad()\n",
    "        y_pred_log = model(x_batch)\n",
    "        loss = criterion(y_pred_log, y_batch.long())\n",
    "        curr_loss += loss.item()\n",
    "        loss.backward()\n",
    "        optimizer.step()\n",
    "    train_losses.append(curr_loss)\n",
    "    print(f\"Epoch {e}, Loss: {curr_loss}\")"
   ]
  },
  {
   "cell_type": "code",
   "execution_count": 25,
   "id": "09650716-a76b-4389-8b54-7b9732919119",
   "metadata": {},
   "outputs": [
    {
     "data": {
      "image/png": "[encoded data removed]",
      "text/plain": [
       "<Figure size 640x480 with 1 Axes>"
      ]
     },
     "metadata": {},
     "output_type": "display_data"
    }
   ],
   "source": [
    "sns.lineplot(x=list(range(len(train_losses))), y= train_losses)\n",
    "plt.show()"
   ]
  },
  {
   "cell_type": "code",
   "execution_count": 26,
   "id": "f471ebe5-75ab-4d88-9921-05a4e35ba25b",
   "metadata": {},
   "outputs": [],
   "source": [
    "with torch.no_grad():\n",
    "    for x_batch, y_batch in test_loader:\n",
    "        y_test_pred_log = model(x_batch)\n",
    "        y_test_pred = torch.argmax(y_test_pred_log, dim = 1)"
   ]
  },
  {
   "cell_type": "code",
   "execution_count": 27,
   "id": "e7f22c93-a96d-457d-a36d-bc80e8c3f794",
   "metadata": {},
   "outputs": [],
   "source": [
    "y_test_pred_np = y_test_pred.squeeze().cpu().numpy()"
   ]
  },
  {
   "cell_type": "code",
   "execution_count": 28,
   "id": "135c1e33-aa88-43f0-8643-dac222c017df",
   "metadata": {},
   "outputs": [
    {
     "data": {
      "text/plain": [
       "'The accuracy of the model is 63.5%.'"
      ]
     },
     "execution_count": 28,
     "metadata": {},
     "output_type": "execute_result"
    }
   ],
   "source": [
    "acc = accuracy_score(y_pred=y_test_pred_np, y_true = y_test)\n",
    "f\"The accuracy of the model is {np.round(acc, 3)*100}%.\""
   ]
  },
  {
   "cell_type": "code",
   "execution_count": 29,
   "id": "b704df75-17d0-422e-9612-878525eedda4",
   "metadata": {},
   "outputs": [
    {
     "name": "stdout",
     "output_type": "stream",
     "text": [
      "Naive Classifier: 41.0 %\n"
     ]
    }
   ],
   "source": [
    "most_common_cnt = Counter(y_test).most_common()[0][1]\n",
    "print(f\"Naive Classifier: {np.round(most_common_cnt / len(y_test) * 100, 1)} %\")"
   ]
  },
  {
   "cell_type": "code",
   "execution_count": 30,
   "id": "7ed6f141-ad48-49c6-9c29-0cea06701348",
   "metadata": {},
   "outputs": [
    {
     "data": {
      "text/plain": [
       "<Axes: >"
      ]
     },
     "execution_count": 30,
     "metadata": {},
     "output_type": "execute_result"
    },
    {
     "data": {
      "image/png": "[encoded data removed]",
      "text/plain": [
       "<Figure size 640x480 with 2 Axes>"
      ]
     },
     "metadata": {},
     "output_type": "display_data"
    }
   ],
   "source": [
    "sns.heatmap(confusion_matrix(y_test_pred_np, y_test), annot=True, fmt=\".0f\")"
   ]
  }
 ],
 "metadata": {
  "kernelspec": {
   "display_name": "Python 3 (ipykernel)",
   "language": "python",
   "name": "python3"
  },
  "language_info": {
   "codemirror_mode": {
    "name": "ipython",
    "version": 3
   },
   "file_extension": ".py",
   "mimetype": "text/x-python",
   "name": "python",
   "nbconvert_exporter": "python",
   "pygments_lexer": "ipython3",
   "version": "3.8.19"
  }
 },
 "nbformat": 4,
 "nbformat_minor": 5
}
