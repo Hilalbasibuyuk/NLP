{
 "cells": [
  {
   "cell_type": "code",
   "execution_count": 1,
   "id": "e1705056-cea8-429b-a393-951e98373034",
   "metadata": {},
   "outputs": [
    {
     "name": "stderr",
     "output_type": "stream",
     "text": [
      "c:\\Users\\hilal\\AppData\\Local\\Programs\\Python\\Python39\\lib\\site-packages\\tqdm\\auto.py:21: TqdmWarning: IProgress not found. Please update jupyter and ipywidgets. See https://ipywidgets.readthedocs.io/en/stable/user_install.html\n",
      "  from .autonotebook import tqdm as notebook_tqdm\n"
     ]
    }
   ],
   "source": [
    "from transformers import pipeline"
   ]
  },
  {
   "cell_type": "code",
   "execution_count": 2,
   "id": "98541228-ad42-48cd-8df4-d42525b89f77",
   "metadata": {},
   "outputs": [
    {
     "name": "stderr",
     "output_type": "stream",
     "text": [
      "No model was supplied, defaulted to dbmdz/bert-large-cased-finetuned-conll03-english and revision f2482bf (https://huggingface.co/dbmdz/bert-large-cased-finetuned-conll03-english).\n",
      "Using a pipeline without specifying a model name and revision in production is not recommended.\n",
      "config.json: 100%|██████████| 998/998 [00:00<00:00, 90.6kB/s]\n",
      "c:\\Users\\hilal\\AppData\\Local\\Programs\\Python\\Python39\\lib\\site-packages\\huggingface_hub\\file_download.py:149: UserWarning: `huggingface_hub` cache-system uses symlinks by default to efficiently store duplicated files but your machine does not support them in C:\\Users\\hilal\\.cache\\huggingface\\hub\\models--dbmdz--bert-large-cased-finetuned-conll03-english. Caching files will still work but in a degraded version that might require more space on your disk. This warning can be disabled by setting the `HF_HUB_DISABLE_SYMLINKS_WARNING` environment variable. For more details, see https://huggingface.co/docs/huggingface_hub/how-to-cache#limitations.\n",
      "To support symlinks on Windows, you either need to activate Developer Mode or to run Python as an administrator. In order to see activate developer mode, see this article: https://docs.microsoft.com/en-us/windows/apps/get-started/enable-your-device-for-development\n",
      "  warnings.warn(message)\n",
      "model.safetensors: 100%|██████████| 1.33G/1.33G [08:35<00:00, 2.59MB/s]\n",
      "Some weights of the model checkpoint at dbmdz/bert-large-cased-finetuned-conll03-english were not used when initializing BertForTokenClassification: ['bert.pooler.dense.weight', 'bert.pooler.dense.bias']\n",
      "- This IS expected if you are initializing BertForTokenClassification from the checkpoint of a model trained on another task or with another architecture (e.g. initializing a BertForSequenceClassification model from a BertForPreTraining model).\n",
      "- This IS NOT expected if you are initializing BertForTokenClassification from the checkpoint of a model that you expect to be exactly identical (initializing a BertForSequenceClassification model from a BertForSequenceClassification model).\n",
      "tokenizer_config.json: 100%|██████████| 60.0/60.0 [00:00<00:00, 6.14kB/s]\n",
      "vocab.txt: 100%|██████████| 213k/213k [00:00<00:00, 668kB/s]\n"
     ]
    }
   ],
   "source": [
    "pipe = pipeline(task = \"ner\")"
   ]
  },
  {
   "cell_type": "code",
   "execution_count": 3,
   "id": "6631854e-9b15-442b-9093-8d9a1e0c84cd",
   "metadata": {},
   "outputs": [
    {
     "data": {
      "text/plain": [
       "[{'entity': 'I-ORG',\n",
       "  'score': 0.99959284,\n",
       "  'index': 1,\n",
       "  'word': 'Apple',\n",
       "  'start': 0,\n",
       "  'end': 5},\n",
       " {'entity': 'I-ORG',\n",
       "  'score': 0.9994708,\n",
       "  'index': 2,\n",
       "  'word': 'Inc',\n",
       "  'start': 6,\n",
       "  'end': 9},\n",
       " {'entity': 'I-PER',\n",
       "  'score': 0.9993297,\n",
       "  'index': 7,\n",
       "  'word': 'Steve',\n",
       "  'start': 26,\n",
       "  'end': 31},\n",
       " {'entity': 'I-PER',\n",
       "  'score': 0.9993881,\n",
       "  'index': 8,\n",
       "  'word': 'Job',\n",
       "  'start': 32,\n",
       "  'end': 35},\n",
       " {'entity': 'I-PER',\n",
       "  'score': 0.9853983,\n",
       "  'index': 9,\n",
       "  'word': '##s',\n",
       "  'start': 35,\n",
       "  'end': 36},\n",
       " {'entity': 'I-PER',\n",
       "  'score': 0.9994411,\n",
       "  'index': 11,\n",
       "  'word': 'Steve',\n",
       "  'start': 38,\n",
       "  'end': 43},\n",
       " {'entity': 'I-PER',\n",
       "  'score': 0.99933416,\n",
       "  'index': 12,\n",
       "  'word': 'W',\n",
       "  'start': 44,\n",
       "  'end': 45},\n",
       " {'entity': 'I-PER',\n",
       "  'score': 0.71324265,\n",
       "  'index': 13,\n",
       "  'word': '##oz',\n",
       "  'start': 45,\n",
       "  'end': 47},\n",
       " {'entity': 'I-PER',\n",
       "  'score': 0.7957286,\n",
       "  'index': 14,\n",
       "  'word': '##nia',\n",
       "  'start': 47,\n",
       "  'end': 50},\n",
       " {'entity': 'I-PER',\n",
       "  'score': 0.98822355,\n",
       "  'index': 15,\n",
       "  'word': '##k',\n",
       "  'start': 50,\n",
       "  'end': 51},\n",
       " {'entity': 'I-PER',\n",
       "  'score': 0.9991761,\n",
       "  'index': 18,\n",
       "  'word': 'Ronald',\n",
       "  'start': 57,\n",
       "  'end': 63},\n",
       " {'entity': 'I-PER',\n",
       "  'score': 0.999655,\n",
       "  'index': 19,\n",
       "  'word': 'Wayne',\n",
       "  'start': 64,\n",
       "  'end': 69},\n",
       " {'entity': 'I-LOC',\n",
       "  'score': 0.99580246,\n",
       "  'index': 27,\n",
       "  'word': 'Cup',\n",
       "  'start': 91,\n",
       "  'end': 94},\n",
       " {'entity': 'I-LOC',\n",
       "  'score': 0.9118078,\n",
       "  'index': 28,\n",
       "  'word': '##ert',\n",
       "  'start': 94,\n",
       "  'end': 97},\n",
       " {'entity': 'I-LOC',\n",
       "  'score': 0.99437684,\n",
       "  'index': 29,\n",
       "  'word': '##ino',\n",
       "  'start': 97,\n",
       "  'end': 100},\n",
       " {'entity': 'I-LOC',\n",
       "  'score': 0.998528,\n",
       "  'index': 31,\n",
       "  'word': 'California',\n",
       "  'start': 102,\n",
       "  'end': 112}]"
      ]
     },
     "execution_count": 3,
     "metadata": {},
     "output_type": "execute_result"
    }
   ],
   "source": [
    "pipe(\"Apple Inc. was founded by Steve Jobs, Steve Wozniak, and Ronald Wayne on April 1, 1976, in Cupertino, California.\")"
   ]
  }
 ],
 "metadata": {
  "kernelspec": {
   "display_name": "Python 3 (ipykernel)",
   "language": "python",
   "name": "python3"
  },
  "language_info": {
   "codemirror_mode": {
    "name": "ipython",
    "version": 3
   },
   "file_extension": ".py",
   "mimetype": "text/x-python",
   "name": "python",
   "nbconvert_exporter": "python",
   "pygments_lexer": "ipython3",
   "version": "3.9.0"
  }
 },
 "nbformat": 4,
 "nbformat_minor": 5
}
