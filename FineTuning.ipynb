{
 "cells": [
  {
   "cell_type": "code",
   "execution_count": 48,
   "id": "32c65540-54fe-4af3-8730-47cf25ba212b",
   "metadata": {},
   "outputs": [],
   "source": [
    "from transformers import AutoModelForSequenceClassification, DistilBertTokenizer, Trainer, TrainingArguments\n",
    "from datasets import DatasetDict\n",
    "import joblib\n",
    "import numpy as np\n",
    "import pandas as pd\n",
    "import seaborn as sns\n",
    "import torch\n",
    "from torch.nn.functional import cross_entropy\n",
    "from sklearn.metrics import accuracy_score, confusion_matrix\n",
    "from sklearn.dummy import DummyClassifier"
   ]
  },
  {
   "cell_type": "code",
   "execution_count": 31,
   "id": "3a5d5714-54b4-4359-962b-d1e3b9ed4f3b",
   "metadata": {},
   "outputs": [],
   "source": [
    "yelp_hidden_states = joblib.load('yelp_hidden_states.joblib')"
   ]
  },
  {
   "cell_type": "code",
   "execution_count": 32,
   "id": "13f0f36f",
   "metadata": {},
   "outputs": [
    {
     "name": "stderr",
     "output_type": "stream",
     "text": [
      "Some weights of DistilBertForSequenceClassification were not initialized from the model checkpoint at distilbert-base-uncased and are newly initialized: ['classifier.bias', 'pre_classifier.bias', 'classifier.weight', 'pre_classifier.weight']\n",
      "You should probably TRAIN this model on a down-stream task to be able to use it for predictions and inference.\n"
     ]
    }
   ],
   "source": [
    "model_name = 'distilbert-base-uncased'\n",
    "device = 'cuda'\n",
    "num_labels = 5\n",
    "model = AutoModelForSequenceClassification.from_pretrained(model_name, num_labels=num_labels)\n",
    "tokenizer = DistilBertTokenizer.from_pretrained(model_name)"
   ]
  },
  {
   "cell_type": "code",
   "execution_count": 33,
   "id": "7fb56d3f",
   "metadata": {},
   "outputs": [
    {
     "name": "stdout",
     "output_type": "stream",
     "text": [
      "torch.Size([512])\n",
      "torch.Size([512])\n",
      "torch.Size([512])\n"
     ]
    }
   ],
   "source": [
    "train_ds = yelp_hidden_states.select(range(0,800))\n",
    "eval_ds = yelp_hidden_states.select(range(800,1000))\n",
    "print(train_ds[0]['input_ids'].shape)\n",
    "print(eval_ds[0]['input_ids'].shape)\n",
    "print(yelp_hidden_states[800]['input_ids'].shape)"
   ]
  },
  {
   "cell_type": "code",
   "execution_count": 34,
   "id": "31ad7d3c",
   "metadata": {},
   "outputs": [],
   "source": [
    "yelp_ds_dict = DatasetDict({'train': train_ds, 'test':eval_ds})"
   ]
  },
  {
   "cell_type": "code",
   "execution_count": null,
   "id": "1e81d913",
   "metadata": {},
   "outputs": [],
   "source": [
    "batch_size = 8\n",
    "training_args = TrainingArguments(\n",
    "    output_dir = \"./results\",\n",
    "    learning_rate = 2e-5,\n",
    "    num_train_epochs = 20,\n",
    "    per_device_train_batch_size = batch_size,\n",
    "    per_device_eval_batch_size = batch_size,\n",
    "    warmup_steps=500,  # number of warmup steps for learning rate scheduler\n",
    "    disable_tqdm=False,\n",
    "    push_to_hub=False,\n",
    "    save_strategy='epoch',\n",
    "    log_level='error',\n",
    "    weight_decay=0.01,               # strength of weight decay\n",
    "    logging_dir='./logs',            # directory for storing logs\n",
    ")"
   ]
  },
  {
   "cell_type": "code",
   "execution_count": null,
   "id": "ba43003b",
   "metadata": {},
   "outputs": [],
   "source": [
    "trainer = Trainer(model=model, \n",
    "                  args=training_args, \n",
    "                  train_dataset=yelp_ds_dict['train'], eval_dataset=yelp_ds_dict['test'])\n",
    "trainer.train()"
   ]
  },
  {
   "cell_type": "code",
   "execution_count": null,
   "id": "d1ecffcf",
   "metadata": {},
   "outputs": [],
   "source": [
    "trainer.evaluate()"
   ]
  },
  {
   "cell_type": "code",
   "execution_count": null,
   "id": "76a96035",
   "metadata": {},
   "outputs": [],
   "source": [
    "preds = trainer.predict(yelp_ds_dict['test'])"
   ]
  },
  {
   "cell_type": "code",
   "execution_count": null,
   "id": "42339fa6",
   "metadata": {},
   "outputs": [],
   "source": [
    "preds.metrics"
   ]
  },
  {
   "cell_type": "code",
   "execution_count": null,
   "id": "6cb29a53",
   "metadata": {},
   "outputs": [],
   "source": [
    "np.argmax(preds.predictions, axis=1)"
   ]
  },
  {
   "cell_type": "code",
   "execution_count": null,
   "id": "47c38a3b",
   "metadata": {},
   "outputs": [],
   "source": [
    "true_classes = yelp_ds_dict['test']['label']\n",
    "preds_classes = np.argmax(preds.predictions, axis=1)\n",
    "conf_mat = confusion_matrix(true_classes, preds_classes)\n",
    "sns.heatmap(conf_mat, annot=True)"
   ]
  },
  {
   "cell_type": "code",
   "execution_count": null,
   "id": "c2a805d8",
   "metadata": {},
   "outputs": [],
   "source": [
    "accuracy_score(true_classes, preds_classes)"
   ]
  },
  {
   "cell_type": "code",
   "execution_count": null,
   "id": "4e814003",
   "metadata": {},
   "outputs": [],
   "source": [
    "dummy_clf = DummyClassifier(strategy=\"most_frequent\")\n",
    "dummy_clf.fit(yelp_ds_dict['train']['label'], yelp_ds_dict['train']['label'])"
   ]
  },
  {
   "cell_type": "code",
   "execution_count": null,
   "id": "4c22d46e",
   "metadata": {},
   "outputs": [],
   "source": [
    "dummy_clf.score(yelp_ds_dict['test']['label'], yelp_ds_dict['test']['label'])"
   ]
  },
  {
   "cell_type": "code",
   "execution_count": null,
   "id": "8ada50e2",
   "metadata": {},
   "outputs": [],
   "source": [
    "with torch.no_grad():\n",
    "    outputs = model(yelp_ds_dict['test']['input_ids'], yelp_ds_dict['test']['attention_mask'])"
   ]
  },
  {
   "cell_type": "code",
   "execution_count": null,
   "id": "3acd3d7d",
   "metadata": {},
   "outputs": [],
   "source": [
    "pred_labels = torch.argmax(outputs.logits, dim=1)\n",
    "loss = cross_entropy(outputs.logits, yelp_ds_dict['test']['label'], reduction='none')"
   ]
  },
  {
   "cell_type": "code",
   "execution_count": null,
   "id": "e76d70a9",
   "metadata": {},
   "outputs": [],
   "source": [
    "df_individual_reviews = pd.DataFrame({'text': yelp_ds_dict['test']['text'], 'label': yelp_ds_dict['test']['label'], 'pred_label': pred_labels, 'loss': loss}).sort_values('loss', ascending=False).reset_index(drop=True)\n",
    "df_individual_reviews"
   ]
  },
  {
   "cell_type": "code",
   "execution_count": null,
   "id": "63fae9e9",
   "metadata": {},
   "outputs": [],
   "source": [
    "sns.lineplot(data=df_individual_reviews, x='label', y='loss')"
   ]
  },
  {
   "cell_type": "code",
   "execution_count": null,
   "id": "239468c3",
   "metadata": {},
   "outputs": [],
   "source": [
    "trainer.create_model_card(model_name = 'distilbert-base-uncased-yelp')\n",
    "trainer.push_to_hub(commit_message='Yelp review classification')"
   ]
  },
  {
   "cell_type": "code",
   "execution_count": null,
   "id": "04033271",
   "metadata": {},
   "outputs": [],
   "source": [
    "from transformers import pipeline\n",
    "model_id = 'BertGollnick/distilbert-base-uncased-yelp-new'\n",
    "tokenizer = DistilBertTokenizer.from_pretrained('distilbert-base-uncased')\n",
    "classifier = pipeline('sentiment-analysis', model=model_id, tokenizer=tokenizer)"
   ]
  },
  {
   "cell_type": "code",
   "execution_count": null,
   "id": "7825267b",
   "metadata": {},
   "outputs": [],
   "source": [
    "res = classifier('it is not so great', return_all_scores=True)[0]\n",
    "df_res = pd.DataFrame(res)\n",
    "sns.barplot(data=df_res, x='label', y='score')"
   ]
  }
 ],
 "metadata": {
  "kernelspec": {
   "display_name": "Python 3 (ipykernel)",
   "language": "python",
   "name": "python3"
  },
  "language_info": {
   "codemirror_mode": {
    "name": "ipython",
    "version": 3
   },
   "file_extension": ".py",
   "mimetype": "text/x-python",
   "name": "python",
   "nbconvert_exporter": "python",
   "pygments_lexer": "ipython3",
   "version": "3.9.0"
  }
 },
 "nbformat": 4,
 "nbformat_minor": 5
}
