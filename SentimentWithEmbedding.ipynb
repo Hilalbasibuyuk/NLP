{
 "cells": [
  {
   "cell_type": "code",
   "execution_count": 2,
   "id": "2f7d0df5-0100-424f-a283-4be10f23f784",
   "metadata": {},
   "outputs": [
    {
     "name": "stderr",
     "output_type": "stream",
     "text": [
      "C:\\Users\\hilal\\anaconda3\\envs\\pytorch\\lib\\site-packages\\sentence_transformers\\cross_encoder\\CrossEncoder.py:11: TqdmExperimentalWarning: Using `tqdm.autonotebook.tqdm` in notebook mode. Use `tqdm.tqdm` instead to force console mode (e.g. in jupyter console)\n",
      "  from tqdm.autonotebook import tqdm, trange\n"
     ]
    }
   ],
   "source": [
    "import numpy as np\n",
    "import pandas as pd\n",
    "import pickle\n",
    "from collections import Counter\n",
    "import seaborn as sns\n",
    "from sklearn.model_selection import train_test_split\n",
    "from sklearn.metrics import accuracy_score\n",
    "import torch\n",
    "import torch.nn as nn\n",
    "from torch.utils.data import Dataset, DataLoader\n",
    "from sentence_transformers import SentenceTransformer"
   ]
  },
  {
   "cell_type": "code",
   "execution_count": 5,
   "id": "fe1060b8-f127-43e3-8a52-01afb1243853",
   "metadata": {},
   "outputs": [
    {
     "data": {
      "text/html": [
       "<div>\n",
       "<style scoped>\n",
       "    .dataframe tbody tr th:only-of-type {\n",
       "        vertical-align: middle;\n",
       "    }\n",
       "\n",
       "    .dataframe tbody tr th {\n",
       "        vertical-align: top;\n",
       "    }\n",
       "\n",
       "    .dataframe thead th {\n",
       "        text-align: right;\n",
       "    }\n",
       "</style>\n",
       "<table border=\"1\" class=\"dataframe\">\n",
       "  <thead>\n",
       "    <tr style=\"text-align: right;\">\n",
       "      <th></th>\n",
       "      <th>textID</th>\n",
       "      <th>text</th>\n",
       "      <th>selected_text</th>\n",
       "      <th>sentiment</th>\n",
       "    </tr>\n",
       "  </thead>\n",
       "  <tbody>\n",
       "    <tr>\n",
       "      <th>0</th>\n",
       "      <td>cb774db0d1</td>\n",
       "      <td>I`d have responded, if I were going</td>\n",
       "      <td>I`d have responded, if I were going</td>\n",
       "      <td>neutral</td>\n",
       "    </tr>\n",
       "    <tr>\n",
       "      <th>1</th>\n",
       "      <td>549e992a42</td>\n",
       "      <td>Sooo SAD I will miss you here in San Diego!!!</td>\n",
       "      <td>Sooo SAD</td>\n",
       "      <td>negative</td>\n",
       "    </tr>\n",
       "    <tr>\n",
       "      <th>2</th>\n",
       "      <td>088c60f138</td>\n",
       "      <td>my boss is bullying me...</td>\n",
       "      <td>bullying me</td>\n",
       "      <td>negative</td>\n",
       "    </tr>\n",
       "    <tr>\n",
       "      <th>3</th>\n",
       "      <td>9642c003ef</td>\n",
       "      <td>what interview! leave me alone</td>\n",
       "      <td>leave me alone</td>\n",
       "      <td>negative</td>\n",
       "    </tr>\n",
       "    <tr>\n",
       "      <th>4</th>\n",
       "      <td>358bd9e861</td>\n",
       "      <td>Sons of ****, why couldn`t they put them on t...</td>\n",
       "      <td>Sons of ****,</td>\n",
       "      <td>negative</td>\n",
       "    </tr>\n",
       "    <tr>\n",
       "      <th>5</th>\n",
       "      <td>28b57f3990</td>\n",
       "      <td>http://www.dothebouncy.com/smf - some shameles...</td>\n",
       "      <td>http://www.dothebouncy.com/smf - some shameles...</td>\n",
       "      <td>neutral</td>\n",
       "    </tr>\n",
       "    <tr>\n",
       "      <th>6</th>\n",
       "      <td>6e0c6d75b1</td>\n",
       "      <td>2am feedings for the baby are fun when he is a...</td>\n",
       "      <td>fun</td>\n",
       "      <td>positive</td>\n",
       "    </tr>\n",
       "    <tr>\n",
       "      <th>7</th>\n",
       "      <td>50e14c0bb8</td>\n",
       "      <td>Soooo high</td>\n",
       "      <td>Soooo high</td>\n",
       "      <td>neutral</td>\n",
       "    </tr>\n",
       "    <tr>\n",
       "      <th>8</th>\n",
       "      <td>e050245fbd</td>\n",
       "      <td>Both of you</td>\n",
       "      <td>Both of you</td>\n",
       "      <td>neutral</td>\n",
       "    </tr>\n",
       "    <tr>\n",
       "      <th>9</th>\n",
       "      <td>fc2cbefa9d</td>\n",
       "      <td>Journey!? Wow... u just became cooler.  hehe....</td>\n",
       "      <td>Wow... u just became cooler.</td>\n",
       "      <td>positive</td>\n",
       "    </tr>\n",
       "  </tbody>\n",
       "</table>\n",
       "</div>"
      ],
      "text/plain": [
       "       textID                                               text  \\\n",
       "0  cb774db0d1                I`d have responded, if I were going   \n",
       "1  549e992a42      Sooo SAD I will miss you here in San Diego!!!   \n",
       "2  088c60f138                          my boss is bullying me...   \n",
       "3  9642c003ef                     what interview! leave me alone   \n",
       "4  358bd9e861   Sons of ****, why couldn`t they put them on t...   \n",
       "5  28b57f3990  http://www.dothebouncy.com/smf - some shameles...   \n",
       "6  6e0c6d75b1  2am feedings for the baby are fun when he is a...   \n",
       "7  50e14c0bb8                                         Soooo high   \n",
       "8  e050245fbd                                        Both of you   \n",
       "9  fc2cbefa9d   Journey!? Wow... u just became cooler.  hehe....   \n",
       "\n",
       "                                       selected_text sentiment  \n",
       "0                I`d have responded, if I were going   neutral  \n",
       "1                                           Sooo SAD  negative  \n",
       "2                                        bullying me  negative  \n",
       "3                                     leave me alone  negative  \n",
       "4                                      Sons of ****,  negative  \n",
       "5  http://www.dothebouncy.com/smf - some shameles...   neutral  \n",
       "6                                                fun  positive  \n",
       "7                                         Soooo high   neutral  \n",
       "8                                        Both of you   neutral  \n",
       "9                       Wow... u just became cooler.  positive  "
      ]
     },
     "execution_count": 5,
     "metadata": {},
     "output_type": "execute_result"
    }
   ],
   "source": [
    "twitter_file = \"C:/Users/hilal/OneDrive/Belgeler/NLP/Tweets.csv\"\n",
    "df = pd.read_csv(twitter_file).dropna()\n",
    "df.head(10)"
   ]
  },
  {
   "cell_type": "code",
   "execution_count": 6,
   "id": "892d4697-6586-4c25-a799-aba4cbfff604",
   "metadata": {},
   "outputs": [],
   "source": [
    "cat_id = {'neutral': 1, \n",
    "          'negative': 0, \n",
    "          'positive': 2}\n",
    "\n",
    "df['class'] = df['sentiment'].map(cat_id)"
   ]
  },
  {
   "cell_type": "code",
   "execution_count": 7,
   "id": "3af3d18d-bb0b-4f99-9396-5c00d85f8ce4",
   "metadata": {},
   "outputs": [
    {
     "data": {
      "text/html": [
       "<div>\n",
       "<style scoped>\n",
       "    .dataframe tbody tr th:only-of-type {\n",
       "        vertical-align: middle;\n",
       "    }\n",
       "\n",
       "    .dataframe tbody tr th {\n",
       "        vertical-align: top;\n",
       "    }\n",
       "\n",
       "    .dataframe thead th {\n",
       "        text-align: right;\n",
       "    }\n",
       "</style>\n",
       "<table border=\"1\" class=\"dataframe\">\n",
       "  <thead>\n",
       "    <tr style=\"text-align: right;\">\n",
       "      <th></th>\n",
       "      <th>textID</th>\n",
       "      <th>text</th>\n",
       "      <th>selected_text</th>\n",
       "      <th>sentiment</th>\n",
       "      <th>class</th>\n",
       "    </tr>\n",
       "  </thead>\n",
       "  <tbody>\n",
       "    <tr>\n",
       "      <th>0</th>\n",
       "      <td>cb774db0d1</td>\n",
       "      <td>I`d have responded, if I were going</td>\n",
       "      <td>I`d have responded, if I were going</td>\n",
       "      <td>neutral</td>\n",
       "      <td>1</td>\n",
       "    </tr>\n",
       "    <tr>\n",
       "      <th>1</th>\n",
       "      <td>549e992a42</td>\n",
       "      <td>Sooo SAD I will miss you here in San Diego!!!</td>\n",
       "      <td>Sooo SAD</td>\n",
       "      <td>negative</td>\n",
       "      <td>0</td>\n",
       "    </tr>\n",
       "    <tr>\n",
       "      <th>2</th>\n",
       "      <td>088c60f138</td>\n",
       "      <td>my boss is bullying me...</td>\n",
       "      <td>bullying me</td>\n",
       "      <td>negative</td>\n",
       "      <td>0</td>\n",
       "    </tr>\n",
       "    <tr>\n",
       "      <th>3</th>\n",
       "      <td>9642c003ef</td>\n",
       "      <td>what interview! leave me alone</td>\n",
       "      <td>leave me alone</td>\n",
       "      <td>negative</td>\n",
       "      <td>0</td>\n",
       "    </tr>\n",
       "    <tr>\n",
       "      <th>4</th>\n",
       "      <td>358bd9e861</td>\n",
       "      <td>Sons of ****, why couldn`t they put them on t...</td>\n",
       "      <td>Sons of ****,</td>\n",
       "      <td>negative</td>\n",
       "      <td>0</td>\n",
       "    </tr>\n",
       "    <tr>\n",
       "      <th>5</th>\n",
       "      <td>28b57f3990</td>\n",
       "      <td>http://www.dothebouncy.com/smf - some shameles...</td>\n",
       "      <td>http://www.dothebouncy.com/smf - some shameles...</td>\n",
       "      <td>neutral</td>\n",
       "      <td>1</td>\n",
       "    </tr>\n",
       "    <tr>\n",
       "      <th>6</th>\n",
       "      <td>6e0c6d75b1</td>\n",
       "      <td>2am feedings for the baby are fun when he is a...</td>\n",
       "      <td>fun</td>\n",
       "      <td>positive</td>\n",
       "      <td>2</td>\n",
       "    </tr>\n",
       "    <tr>\n",
       "      <th>7</th>\n",
       "      <td>50e14c0bb8</td>\n",
       "      <td>Soooo high</td>\n",
       "      <td>Soooo high</td>\n",
       "      <td>neutral</td>\n",
       "      <td>1</td>\n",
       "    </tr>\n",
       "    <tr>\n",
       "      <th>8</th>\n",
       "      <td>e050245fbd</td>\n",
       "      <td>Both of you</td>\n",
       "      <td>Both of you</td>\n",
       "      <td>neutral</td>\n",
       "      <td>1</td>\n",
       "    </tr>\n",
       "    <tr>\n",
       "      <th>9</th>\n",
       "      <td>fc2cbefa9d</td>\n",
       "      <td>Journey!? Wow... u just became cooler.  hehe....</td>\n",
       "      <td>Wow... u just became cooler.</td>\n",
       "      <td>positive</td>\n",
       "      <td>2</td>\n",
       "    </tr>\n",
       "  </tbody>\n",
       "</table>\n",
       "</div>"
      ],
      "text/plain": [
       "       textID                                               text  \\\n",
       "0  cb774db0d1                I`d have responded, if I were going   \n",
       "1  549e992a42      Sooo SAD I will miss you here in San Diego!!!   \n",
       "2  088c60f138                          my boss is bullying me...   \n",
       "3  9642c003ef                     what interview! leave me alone   \n",
       "4  358bd9e861   Sons of ****, why couldn`t they put them on t...   \n",
       "5  28b57f3990  http://www.dothebouncy.com/smf - some shameles...   \n",
       "6  6e0c6d75b1  2am feedings for the baby are fun when he is a...   \n",
       "7  50e14c0bb8                                         Soooo high   \n",
       "8  e050245fbd                                        Both of you   \n",
       "9  fc2cbefa9d   Journey!? Wow... u just became cooler.  hehe....   \n",
       "\n",
       "                                       selected_text sentiment  class  \n",
       "0                I`d have responded, if I were going   neutral      1  \n",
       "1                                           Sooo SAD  negative      0  \n",
       "2                                        bullying me  negative      0  \n",
       "3                                     leave me alone  negative      0  \n",
       "4                                      Sons of ****,  negative      0  \n",
       "5  http://www.dothebouncy.com/smf - some shameles...   neutral      1  \n",
       "6                                                fun  positive      2  \n",
       "7                                         Soooo high   neutral      1  \n",
       "8                                        Both of you   neutral      1  \n",
       "9                       Wow... u just became cooler.  positive      2  "
      ]
     },
     "execution_count": 7,
     "metadata": {},
     "output_type": "execute_result"
    }
   ],
   "source": [
    "df.head(10)"
   ]
  },
  {
   "cell_type": "code",
   "execution_count": 8,
   "id": "0e0b7ed7-b12f-4488-b758-f90be9f78079",
   "metadata": {},
   "outputs": [],
   "source": [
    "BATCH_SIZE = 128\n",
    "NUM_EPOCHS = 80\n",
    "MAX_FEATURES = 10"
   ]
  },
  {
   "cell_type": "code",
   "execution_count": 9,
   "id": "0a11dbeb-1e9e-4208-a680-9b12f17829d3",
   "metadata": {},
   "outputs": [
    {
     "data": {
      "application/vnd.jupyter.widget-view+json": {
       "model_id": "0bb19a0733b84bbb9ee5aea6a1f2a2dc",
       "version_major": 2,
       "version_minor": 0
      },
      "text/plain": [
       "modules.json:   0%|          | 0.00/349 [00:00<?, ?B/s]"
      ]
     },
     "metadata": {},
     "output_type": "display_data"
    },
    {
     "name": "stderr",
     "output_type": "stream",
     "text": [
      "C:\\Users\\hilal\\anaconda3\\envs\\pytorch\\lib\\site-packages\\huggingface_hub\\file_download.py:159: UserWarning: `huggingface_hub` cache-system uses symlinks by default to efficiently store duplicated files but your machine does not support them in C:\\Users\\hilal\\.cache\\huggingface\\hub\\models--sentence-transformers--all-mpnet-base-v1. Caching files will still work but in a degraded version that might require more space on your disk. This warning can be disabled by setting the `HF_HUB_DISABLE_SYMLINKS_WARNING` environment variable. For more details, see https://huggingface.co/docs/huggingface_hub/how-to-cache#limitations.\n",
      "To support symlinks on Windows, you either need to activate Developer Mode or to run Python as an administrator. In order to see activate developer mode, see this article: https://docs.microsoft.com/en-us/windows/apps/get-started/enable-your-device-for-development\n",
      "  warnings.warn(message)\n"
     ]
    },
    {
     "data": {
      "application/vnd.jupyter.widget-view+json": {
       "model_id": "f85f2db90cef4c6ca00ac0ddf4e94c2a",
       "version_major": 2,
       "version_minor": 0
      },
      "text/plain": [
       "config_sentence_transformers.json:   0%|          | 0.00/116 [00:00<?, ?B/s]"
      ]
     },
     "metadata": {},
     "output_type": "display_data"
    },
    {
     "data": {
      "application/vnd.jupyter.widget-view+json": {
       "model_id": "417f2838e07a479b8fa6fea30e9050ca",
       "version_major": 2,
       "version_minor": 0
      },
      "text/plain": [
       "README.md:   0%|          | 0.00/9.90k [00:00<?, ?B/s]"
      ]
     },
     "metadata": {},
     "output_type": "display_data"
    },
    {
     "data": {
      "application/vnd.jupyter.widget-view+json": {
       "model_id": "901e394687bb4329b0c5868dc69ab628",
       "version_major": 2,
       "version_minor": 0
      },
      "text/plain": [
       "sentence_bert_config.json:   0%|          | 0.00/53.0 [00:00<?, ?B/s]"
      ]
     },
     "metadata": {},
     "output_type": "display_data"
    },
    {
     "data": {
      "application/vnd.jupyter.widget-view+json": {
       "model_id": "79d3917c431343e0a491499c4c969c49",
       "version_major": 2,
       "version_minor": 0
      },
      "text/plain": [
       "config.json:   0%|          | 0.00/591 [00:00<?, ?B/s]"
      ]
     },
     "metadata": {},
     "output_type": "display_data"
    },
    {
     "data": {
      "application/vnd.jupyter.widget-view+json": {
       "model_id": "c306d4de6104407a9f320cb6028998e3",
       "version_major": 2,
       "version_minor": 0
      },
      "text/plain": [
       "model.safetensors:   0%|          | 0.00/438M [00:00<?, ?B/s]"
      ]
     },
     "metadata": {},
     "output_type": "display_data"
    },
    {
     "data": {
      "application/vnd.jupyter.widget-view+json": {
       "model_id": "c4d524e28ed1496b8f4199d3b3456748",
       "version_major": 2,
       "version_minor": 0
      },
      "text/plain": [
       "tokenizer_config.json:   0%|          | 0.00/363 [00:00<?, ?B/s]"
      ]
     },
     "metadata": {},
     "output_type": "display_data"
    },
    {
     "data": {
      "application/vnd.jupyter.widget-view+json": {
       "model_id": "ba74d563c6454f22afe99dd2c8285db8",
       "version_major": 2,
       "version_minor": 0
      },
      "text/plain": [
       "vocab.txt:   0%|          | 0.00/232k [00:00<?, ?B/s]"
      ]
     },
     "metadata": {},
     "output_type": "display_data"
    },
    {
     "data": {
      "application/vnd.jupyter.widget-view+json": {
       "model_id": "7ac37f98f862443abae5da4cf36b4655",
       "version_major": 2,
       "version_minor": 0
      },
      "text/plain": [
       "tokenizer.json:   0%|          | 0.00/466k [00:00<?, ?B/s]"
      ]
     },
     "metadata": {},
     "output_type": "display_data"
    },
    {
     "data": {
      "application/vnd.jupyter.widget-view+json": {
       "model_id": "250748d2a7aa4dbeae92c575a4f2d0b4",
       "version_major": 2,
       "version_minor": 0
      },
      "text/plain": [
       "special_tokens_map.json:   0%|          | 0.00/239 [00:00<?, ?B/s]"
      ]
     },
     "metadata": {},
     "output_type": "display_data"
    },
    {
     "data": {
      "application/vnd.jupyter.widget-view+json": {
       "model_id": "c3cacf777ba947418d6ed1f7ee2fca94",
       "version_major": 2,
       "version_minor": 0
      },
      "text/plain": [
       "1_Pooling/config.json:   0%|          | 0.00/190 [00:00<?, ?B/s]"
      ]
     },
     "metadata": {},
     "output_type": "display_data"
    }
   ],
   "source": [
    "emb_model = SentenceTransformer('sentence-transformers/all-mpnet-base-v1')"
   ]
  },
  {
   "cell_type": "code",
   "execution_count": 10,
   "id": "5526f733-0212-4b15-8cf8-4ba9db1937ea",
   "metadata": {},
   "outputs": [],
   "source": [
    "sentences = [ \"Each sentence is converted\"]\n",
    "embeddings = emb_model.encode(sentences)"
   ]
  },
  {
   "cell_type": "code",
   "execution_count": 11,
   "id": "e15a6660-a41c-41a9-acee-029739ba21f1",
   "metadata": {},
   "outputs": [
    {
     "name": "stdout",
     "output_type": "stream",
     "text": [
      "[[ 4.00136858e-02  8.55441764e-03 -1.88630596e-02  6.02709502e-02\n",
      "   5.72782718e-02  2.99501363e-02  1.63761619e-02  2.14604791e-02\n",
      "  -7.47054890e-02 -4.09458056e-02 -2.51449086e-02  6.38353974e-02\n",
      "   3.50896316e-03 -7.41744041e-03 -3.71665135e-02 -7.38465115e-02\n",
      "   6.45619109e-02 -1.91149153e-02 -5.34372367e-02  3.57454121e-02\n",
      "   5.72718866e-03  5.18304557e-02 -1.57416426e-02 -2.32236385e-02\n",
      "   2.33237762e-02  3.31329112e-03  2.31329091e-02 -8.86385620e-04\n",
      "  -1.22447256e-02 -1.66127402e-02 -6.83541596e-02 -2.93662027e-02\n",
      "  -2.73816008e-02  1.51105179e-02  7.84564691e-10  4.13988670e-03\n",
      "  -3.79157513e-02 -5.54059669e-02 -1.82934888e-02  5.50112240e-02\n",
      "   2.24507060e-02 -1.36461137e-02  6.55120797e-03  1.13984291e-02\n",
      "  -5.76264895e-02  9.54154134e-03  3.10417004e-02 -1.10082943e-02\n",
      "   4.96229902e-02  8.32017437e-02 -3.30031514e-02 -6.62362054e-02\n",
      "  -1.08050779e-02 -7.94921257e-03  2.56415606e-02  5.53592166e-04\n",
      "  -2.81873159e-02 -7.50432350e-03 -2.05745474e-02  6.62299320e-02\n",
      "  -3.39717008e-02  2.64187120e-02 -3.08406278e-02 -5.61384447e-02\n",
      "  -3.22823785e-02 -3.13551240e-02  5.38629144e-02 -5.57351345e-03\n",
      "  -4.64676209e-02  1.63120385e-02  3.52407456e-03 -4.65828367e-03\n",
      "   8.26096162e-03  5.25902286e-02 -3.48793087e-03 -7.50444084e-02\n",
      "  -7.04505220e-02  6.81746304e-02  1.48180453e-02  2.19494905e-02\n",
      "  -5.94464829e-03  5.94534539e-02 -1.42043615e-02 -2.51090433e-02\n",
      "  -6.37725666e-02  3.13329771e-02 -4.70385775e-02 -1.01492479e-02\n",
      "   5.03629446e-03  5.67755057e-03  3.64789343e-03  7.11988518e-03\n",
      "   2.42392197e-02 -4.58138436e-02 -1.26507189e-02 -1.60226668e-03\n",
      "  -4.64896858e-02 -5.62912263e-02  1.41615337e-02 -9.97228324e-02\n",
      "  -7.66371097e-03  1.74602550e-02 -9.19294450e-03  1.04835257e-02\n",
      "  -6.24703430e-02  1.38396723e-02  5.85876219e-02 -9.82202496e-03\n",
      "  -7.16816932e-02  1.56739596e-02 -2.30100490e-02 -1.79472379e-02\n",
      "  -6.19308203e-02  5.83718829e-02 -2.19560806e-02  4.62123659e-03\n",
      "  -2.63870135e-02  2.96870917e-02  1.81865077e-02 -6.74497383e-03\n",
      "  -4.82880995e-02  1.39652072e-02  1.25342663e-02  1.77458711e-02\n",
      "   8.35178699e-03  5.71882986e-02  1.19305095e-02  3.71817276e-02\n",
      "  -1.19973049e-02  9.39667132e-03  1.61867496e-02  5.12698963e-02\n",
      "   4.27537784e-02  5.87614859e-03 -6.61771595e-02  1.10065506e-03\n",
      "  -2.17289142e-02  2.79247831e-03  1.04703810e-02 -3.79134007e-02\n",
      "  -4.77651954e-02  1.22373588e-02  9.94580518e-03 -2.18548719e-02\n",
      "  -1.25261145e-02  1.53728304e-02  3.07229068e-02 -4.62563820e-02\n",
      "   2.17329208e-02  1.36854351e-02 -5.41043021e-02  7.57295340e-02\n",
      "  -1.59885436e-02 -1.04668979e-02 -1.38216605e-02 -2.66119782e-02\n",
      "   4.64248881e-02  4.24009003e-02  3.12860347e-02  2.34198347e-02\n",
      "   4.43612002e-02 -1.53085496e-02 -2.15310603e-03  3.68358754e-02\n",
      "  -2.00928319e-02  2.08048057e-02 -1.44088212e-02 -4.53165779e-03\n",
      "   4.09714924e-03 -2.52892375e-02  4.05835249e-02  3.55758965e-02\n",
      "  -1.11963158e-03  4.50648181e-02 -1.77434813e-02  7.61660039e-02\n",
      "   8.98533501e-04  4.44902889e-02 -1.97593085e-02 -1.19890284e-03\n",
      "   4.39622328e-02  2.26467866e-02 -2.62199994e-02 -4.20171581e-02\n",
      "  -1.21803563e-02  6.90045627e-03  2.35665031e-02  4.47325520e-02\n",
      "   3.35219651e-02 -9.24208015e-03  3.17286374e-03  2.65366565e-02\n",
      "  -1.14610360e-03 -9.28790048e-02 -3.84386927e-02  3.52568813e-02\n",
      "  -4.43084873e-02  5.03321402e-02  1.31497188e-02 -5.42935841e-02\n",
      "   3.25843617e-02  6.37492025e-03 -1.61988195e-02 -8.97739432e-04\n",
      "   5.00440923e-03  4.46557924e-02  2.66213827e-02 -5.72813265e-02\n",
      "  -1.15075819e-02  9.44631696e-02 -1.38891554e-02  3.49731394e-03\n",
      "   6.00599498e-03  1.58745795e-02  2.00013025e-03 -1.05029168e-02\n",
      "   3.12422272e-02 -1.33799845e-02 -8.33880603e-02 -1.42065603e-02\n",
      "   3.42042334e-02 -1.73468869e-02 -4.05142158e-02  4.14282568e-02\n",
      "   2.35378034e-02 -1.16865160e-02  1.51215494e-02  1.68053731e-02\n",
      "  -1.88196904e-03 -1.83590911e-02  1.18408417e-02  1.15965726e-02\n",
      "   2.54964307e-02 -4.79758382e-02 -5.77143282e-02  7.89837092e-02\n",
      "  -7.46054575e-03 -1.44604400e-01  9.60131735e-03 -7.43494928e-02\n",
      "   5.84631972e-02  3.55747528e-02  8.52212682e-03 -4.23400924e-02\n",
      "   1.48489932e-02 -3.26588862e-02  6.04346469e-02  3.61881405e-02\n",
      "   1.95434745e-02  3.02102268e-02  1.12275649e-02  6.64963294e-03\n",
      "  -6.36086287e-03  1.34423841e-02 -2.60442607e-02 -3.28662023e-02\n",
      "  -8.46057907e-02  4.54424657e-02  3.43243070e-02  6.36620149e-02\n",
      "   6.37459233e-02  1.23034068e-03 -5.17590865e-02  3.64113152e-02\n",
      "  -2.18367986e-02  1.61133967e-02 -3.10064871e-02 -4.19611968e-02\n",
      "  -3.65534835e-02 -6.62703591e-04  5.50675131e-02  8.10682252e-02\n",
      "   6.12103045e-02  5.26287127e-03 -7.82795623e-03 -1.01715392e-02\n",
      "   9.68176499e-03  6.87561417e-03  1.99738494e-03  6.43276516e-03\n",
      "  -2.52177138e-02  1.73613690e-02 -2.61003654e-02  1.24683781e-02\n",
      "  -4.91725728e-02  3.04800700e-02 -1.49085587e-02 -9.26301852e-02\n",
      "  -4.63317446e-02  6.04483001e-02  4.18656133e-02  3.72438808e-03\n",
      "   5.46464585e-02 -6.24660887e-02  4.33652923e-02 -1.24220538e-03\n",
      "   4.26271819e-02  1.04156286e-02  3.73189747e-02  4.94140983e-02\n",
      "  -1.45415962e-02 -3.16978013e-03 -4.41532880e-02 -1.97238550e-02\n",
      "   3.68038006e-02 -3.63217108e-02 -1.45977959e-02 -7.22440481e-02\n",
      "   3.68606411e-02  1.14508029e-02  4.10415120e-02  1.76935904e-02\n",
      "  -8.87369923e-03 -4.41253977e-03 -3.92392352e-02 -1.08149024e-02\n",
      "  -5.96227050e-02  2.61320453e-02  2.80731916e-02 -4.99022659e-03\n",
      "   7.64824275e-04  5.95764853e-02 -2.65419260e-02 -3.69114615e-02\n",
      "   7.70901190e-03 -4.34649847e-02 -2.35528313e-02  1.58295576e-02\n",
      "   1.85243469e-02 -3.81620824e-02  4.65494916e-02 -3.57873775e-02\n",
      "  -2.39142217e-02 -2.93971766e-02  7.20423704e-04 -2.03260742e-02\n",
      "   2.90381396e-03  6.44238368e-02  2.87878066e-02  1.47430683e-02\n",
      "  -5.24680950e-02 -3.62079553e-02 -3.97665799e-03 -7.22689927e-02\n",
      "  -6.25670552e-02  4.42175334e-03  1.33543555e-02 -2.59514954e-02\n",
      "  -5.05750254e-02 -2.29877066e-02  2.69934814e-02 -8.10739584e-03\n",
      "  -2.70047672e-02 -3.18146236e-02  2.46077434e-05  5.12943082e-02\n",
      "   2.06546448e-02 -8.86118133e-03  7.43637932e-03 -2.09674668e-02\n",
      "   6.31755665e-02  4.04570401e-02 -2.94484980e-02  3.43816876e-02\n",
      "  -1.89863592e-02 -2.14851182e-03 -2.77285017e-02  1.90539807e-02\n",
      "  -3.56480330e-02 -1.60455368e-02 -8.97123385e-03 -1.41948797e-02\n",
      "  -5.75322984e-03  5.07631227e-02 -2.64399033e-02 -2.00162679e-02\n",
      "   2.76870076e-02 -1.66844553e-03 -6.41678646e-02 -1.62187610e-02\n",
      "   3.90029214e-02 -1.39464274e-01 -1.91780608e-02  3.87915014e-03\n",
      "  -1.77180348e-03  2.76998468e-02 -8.12872034e-03 -2.23987941e-02\n",
      "  -6.60981014e-02  8.13650712e-03  3.45183276e-02 -4.10769619e-02\n",
      "  -2.46201940e-02 -1.33302470e-03 -1.69884823e-02  1.78659409e-02\n",
      "  -8.36737268e-03  3.50523107e-02 -2.10982654e-02 -6.20736973e-04\n",
      "  -1.31566189e-02  7.13902563e-02  5.15827239e-02 -3.03334724e-02\n",
      "   7.60252029e-02  4.81319949e-02  5.35181314e-02  1.18778683e-02\n",
      "  -1.02285154e-01 -2.30964366e-02  2.59203860e-03 -2.67396849e-02\n",
      "  -1.63577739e-02 -4.29645227e-03  3.50886546e-02  3.06999423e-02\n",
      "  -9.19708982e-03  5.69015518e-02  2.06120517e-02 -3.86954173e-02\n",
      "   4.87585989e-04  4.87750396e-02  2.51940526e-02 -9.14449431e-03\n",
      "  -1.71113946e-02 -3.52869183e-02  3.65831815e-02 -1.63493324e-02\n",
      "   2.44748015e-02 -1.37567529e-02 -5.29178046e-02  2.73605399e-02\n",
      "  -8.89388844e-02 -2.44920496e-02 -6.95850849e-02 -7.25765601e-02\n",
      "   9.24506690e-03 -5.68136647e-02 -2.01874087e-03 -6.49983361e-02\n",
      "   1.43288681e-02 -2.92721819e-02  7.09265247e-02 -4.37900573e-02\n",
      "   2.89840857e-04  1.46886762e-02 -2.09577139e-02  2.68686023e-02\n",
      "  -1.48155745e-02 -1.01244673e-02  1.34405624e-02 -6.43853471e-02\n",
      "  -2.51027737e-02  1.33240242e-02  4.30951566e-02  2.18934584e-02\n",
      "  -7.31928274e-02 -5.29761016e-02 -2.80001536e-02  2.61026956e-02\n",
      "   3.02650556e-02 -9.06715503e-09 -6.77467287e-02  3.62819470e-02\n",
      "   9.43475030e-03  1.67688131e-02  5.54119423e-02 -6.65329443e-03\n",
      "   7.29676709e-02  8.60934984e-03 -3.40560480e-04 -2.43464392e-02\n",
      "  -3.62279788e-02  5.06502204e-02  1.42344134e-02 -2.14079209e-02\n",
      "  -1.40588684e-02 -5.26213869e-02 -4.21307124e-02  4.49237823e-02\n",
      "   2.44312156e-02 -2.78951880e-02 -1.04794689e-02 -1.94299258e-02\n",
      "   5.39818369e-02 -1.42022707e-02 -4.11111787e-02 -2.15647072e-02\n",
      "  -1.61764938e-02  3.61108221e-02  5.79255819e-02  4.01038043e-02\n",
      "   3.51121835e-02  1.91547479e-02 -2.20913030e-02 -3.11947297e-02\n",
      "  -3.47684720e-03 -2.57258099e-02  6.68155327e-02  8.24408419e-03\n",
      "  -4.58391616e-03 -1.98455434e-02 -1.73916426e-02  2.50705052e-02\n",
      "  -7.22851697e-03  2.65838820e-02 -1.48363737e-02 -8.71238951e-03\n",
      "   9.53155290e-03  1.81934107e-02 -2.01434139e-02  1.61033925e-02\n",
      "  -4.70777303e-02 -7.62965344e-03 -3.01671829e-02 -1.26295574e-02\n",
      "   3.65001522e-02  2.29477999e-03  7.28413984e-02 -1.11541413e-02\n",
      "   1.41116772e-02  1.80031415e-02  3.10328212e-02 -2.44855843e-02\n",
      "   6.24220520e-02 -3.81803140e-02 -1.30867902e-02  8.16974416e-03\n",
      "  -1.35551207e-02  6.03133440e-02 -7.46824816e-02  8.71906709e-03\n",
      "   2.32545249e-02 -6.46382868e-02 -2.02819351e-02  2.38862727e-02\n",
      "  -3.38072665e-02 -8.57534911e-03  3.12977843e-02 -6.47072345e-02\n",
      "   9.35811773e-02 -2.09916439e-02  2.56582238e-02  1.41514679e-02\n",
      "   8.80011991e-02 -1.87918283e-02 -2.86311307e-03  9.73951886e-04\n",
      "  -1.63638499e-03 -2.19217278e-02 -2.68713608e-02  8.56487378e-02\n",
      "   7.34662823e-03 -1.34915216e-02 -1.55551294e-02  3.72949865e-10\n",
      "  -2.52610222e-02  1.35573894e-02 -4.52328660e-02  2.93083843e-02\n",
      "  -2.53694002e-02 -8.04717466e-02  2.22037151e-03  4.66953516e-02\n",
      "   1.55896340e-02  4.87898961e-02 -3.26181725e-02 -1.93418674e-02\n",
      "   1.40108624e-02 -1.25896782e-02  5.77064939e-02  2.57276334e-02\n",
      "   4.40166183e-02 -2.24640146e-02 -1.27715040e-02  3.62406624e-03\n",
      "   4.32050303e-02  3.16243008e-04  4.94801737e-02 -1.97723471e-02\n",
      "  -9.82365198e-03  2.93778665e-02 -8.22908580e-02 -3.62336077e-02\n",
      "   2.65095327e-02 -4.93784342e-03  1.58027224e-02  1.42925894e-02\n",
      "  -1.40131926e-02 -5.69308584e-04 -3.43036838e-02  6.08476922e-02\n",
      "  -3.13419402e-02  2.63763852e-02  4.62963013e-03  5.06706499e-02\n",
      "  -3.24097648e-02 -5.22015765e-02  5.61140366e-02 -3.99292074e-02\n",
      "   3.87246870e-02 -1.87635385e-02 -7.60251004e-03 -4.54059541e-02\n",
      "   2.80044582e-02 -2.57349759e-02 -3.36054564e-02 -2.25591492e-02\n",
      "  -9.75402817e-03 -4.03845124e-03  5.00849076e-03  7.73474947e-02\n",
      "  -4.80187312e-02 -1.80466156e-02  5.70237171e-03  3.09854560e-02\n",
      "   3.09528448e-02  6.71293736e-02 -2.46031433e-02 -3.36920023e-02\n",
      "  -4.36770283e-02  9.56347212e-03  6.03063731e-03 -3.30320969e-02\n",
      "  -2.73910519e-02  4.54733856e-02  4.47073244e-02  4.84945215e-02\n",
      "  -2.89662904e-03  5.79753071e-02  3.05339601e-03 -5.37406653e-02\n",
      "  -1.87472813e-02  2.36422922e-02  1.13440389e-02 -6.10248093e-03\n",
      "  -1.68481935e-02  3.75099592e-02  7.20605850e-02 -1.72944665e-02\n",
      "   2.44450308e-02 -7.96236750e-03  2.28731334e-03 -2.65687164e-02\n",
      "  -1.04905739e-02 -1.50661431e-02  6.56811194e-03 -1.85558069e-02\n",
      "   4.43854630e-02 -5.18582910e-02 -2.64927410e-02  2.97414307e-02\n",
      "  -6.78215027e-02  3.40877287e-02 -2.78791618e-02  2.81392802e-02\n",
      "   1.74181331e-02 -3.54184001e-03 -1.95720699e-02  1.58222951e-02\n",
      "   4.59370539e-02  3.48039977e-02  4.78563868e-02 -1.76575761e-02\n",
      "  -4.86465991e-02 -2.42480878e-02  1.35528557e-02 -1.13518601e-02\n",
      "  -3.18042212e-03  6.06524684e-02 -1.62154976e-02 -1.62220486e-02\n",
      "  -4.52845678e-04  6.02007285e-03 -2.04526987e-02 -2.50738394e-02\n",
      "   3.89567278e-02 -4.42898134e-03  3.85682993e-02  5.43025732e-02\n",
      "  -4.23509814e-02 -4.98883910e-02 -1.87344756e-02  2.86962036e-02\n",
      "   3.36512700e-02 -4.33769450e-02 -9.38767567e-03 -3.72945354e-03\n",
      "   1.86996285e-08  9.35183391e-02  1.90756805e-02  1.28475539e-02\n",
      "  -3.19922715e-02 -6.47344394e-03  3.58547680e-02 -1.53181786e-02\n",
      "   4.59911861e-02  5.36673877e-04  3.22833806e-02 -2.74641272e-02\n",
      "  -3.41902152e-02  4.63937819e-02 -4.95703472e-03 -3.33701074e-02\n",
      "  -1.77631006e-02 -3.55473049e-02 -5.73392361e-02 -2.85286736e-02\n",
      "  -4.66169929e-03  1.06408894e-01  4.36279997e-02  1.80842243e-02\n",
      "  -5.55146765e-03 -9.89582576e-03  2.81483307e-02  2.28977157e-03\n",
      "  -8.43657553e-03  2.04799064e-02  1.92083474e-02 -1.33947041e-02\n",
      "  -5.77576384e-02 -2.32910272e-02 -9.95337218e-03 -1.43151013e-02\n",
      "   1.86558376e-04  3.64225507e-02  5.75462617e-02  4.10076529e-02\n",
      "   2.10481454e-02 -3.63524482e-02 -2.66864547e-03 -8.10869690e-03\n",
      "  -6.11615274e-03  1.31202303e-02  3.61806434e-03  6.06266931e-02\n",
      "   1.38207329e-02 -3.56905088e-02  7.35416785e-02 -3.28917690e-02\n",
      "  -5.65033546e-03  1.31986197e-02  8.23429506e-03  1.57825444e-02\n",
      "  -3.35756205e-02  5.04436344e-03 -2.73750462e-02 -3.11667821e-03\n",
      "  -9.04091913e-03 -3.36250141e-02  1.97809935e-02 -1.47898505e-02\n",
      "   5.39893769e-02 -8.96652415e-03 -1.21388612e-02  1.79430041e-02\n",
      "  -2.39550761e-33  2.36807689e-02 -2.61288527e-02  4.36586142e-02\n",
      "   1.28880572e-02  2.84116529e-03 -4.91859689e-02  3.70155759e-02\n",
      "   2.37283725e-02 -6.00880384e-03 -5.13046496e-02 -2.20814999e-02]]\n"
     ]
    }
   ],
   "source": [
    "print(embeddings)"
   ]
  },
  {
   "cell_type": "code",
   "execution_count": 12,
   "id": "7676e992-9f86-4543-b99f-593a42710487",
   "metadata": {},
   "outputs": [
    {
     "name": "stdout",
     "output_type": "stream",
     "text": [
      "(768,)\n"
     ]
    }
   ],
   "source": [
    "print(embeddings.squeeze().shape)"
   ]
  },
  {
   "cell_type": "code",
   "execution_count": 13,
   "id": "3832f25f-227f-4cdc-b1d0-c771e830fdb2",
   "metadata": {},
   "outputs": [],
   "source": [
    "X = emb_model.encode(df['text'].values)"
   ]
  },
  {
   "cell_type": "code",
   "execution_count": 19,
   "id": "ec3c823b-3a88-467c-897d-474dbab724d3",
   "metadata": {},
   "outputs": [],
   "source": [
    "with open(\"C:/Users/hilal/OneDrive/Belgeler/NLP/Tweets.csv\", \"rb\") as input_file:\n",
    "    X = pickle.load(input_file)"
   ]
  },
  {
   "cell_type": "code",
   "execution_count": 20,
   "id": "f8cce237-6c08-4f78-adef-9c877acd5dd4",
   "metadata": {},
   "outputs": [],
   "source": [
    "y = df['class'].values"
   ]
  },
  {
   "cell_type": "code",
   "execution_count": 21,
   "id": "48dcb623-60c1-431e-b2d1-603faf80f621",
   "metadata": {},
   "outputs": [],
   "source": [
    "X_train, X_test, y_train, y_test = train_test_split(X, y, test_size=0.5, random_state=123)"
   ]
  },
  {
   "cell_type": "code",
   "execution_count": 22,
   "id": "0a9804c7-b43b-4c25-8615-44b658f82ab7",
   "metadata": {},
   "outputs": [],
   "source": [
    "class SentimentData(Dataset):\n",
    "    def __init__(self, X, y):\n",
    "        super().__init__()\n",
    "        self.X = torch.Tensor(X)\n",
    "        self.y = torch.Tensor(y).type(torch.LongTensor)\n",
    "        self.len = len(self.X)\n",
    "        \n",
    "    def __len__(self):\n",
    "        return self.len\n",
    "    \n",
    "    def __getitem__(self, index):\n",
    "        return self.X[index], self.y[index]"
   ]
  },
  {
   "cell_type": "code",
   "execution_count": 23,
   "id": "5e3d0f36-7599-483a-a9de-1daa572bfc8f",
   "metadata": {},
   "outputs": [],
   "source": [
    "train_ds = SentimentData(X= X_train, y = y_train)\n",
    "test_ds = SentimentData(X_test, y_test)"
   ]
  },
  {
   "cell_type": "code",
   "execution_count": 24,
   "id": "11d4cb78-dadd-41f2-a300-480ed0e1f0c9",
   "metadata": {},
   "outputs": [],
   "source": [
    "train_loader = DataLoader(dataset=train_ds, batch_size=BATCH_SIZE, shuffle=True)\n",
    "test_loader = DataLoader(test_ds, batch_size=15000)"
   ]
  },
  {
   "cell_type": "code",
   "execution_count": 25,
   "id": "25776d5b-520e-4772-8af8-a72f28a298a4",
   "metadata": {},
   "outputs": [],
   "source": [
    "class SentimentModel(nn.Module):\n",
    "    def __init__(self, NUM_FEATURES, NUM_CLASSES, HIDDEN = 10):\n",
    "        super().__init__()\n",
    "        self.linear = nn.Linear(NUM_FEATURES, HIDDEN)\n",
    "        self.linear2 = nn.Linear(HIDDEN, NUM_CLASSES)\n",
    "        self.relu = nn.ReLU()\n",
    "        self.log_softmax = nn.LogSoftmax(dim=1)\n",
    "        \n",
    "    def forward(self, x):\n",
    "        x = self.linear(x)\n",
    "        x = self.relu(x)\n",
    "        x = self.linear2(x)\n",
    "        x = self.log_softmax(x)\n",
    "        return x"
   ]
  },
  {
   "cell_type": "code",
   "execution_count": 26,
   "id": "eeccc3d8-6740-404c-9e72-d4ef3f0b4435",
   "metadata": {},
   "outputs": [],
   "source": [
    "model = SentimentModel(NUM_FEATURES = X_train.shape[1], NUM_CLASSES = 3)"
   ]
  },
  {
   "cell_type": "code",
   "execution_count": 27,
   "id": "ba7c9e36-f57e-41ef-af74-09bab7f42e70",
   "metadata": {},
   "outputs": [],
   "source": [
    "criterion = nn.CrossEntropyLoss()\n",
    "optimizer = torch.optim.AdamW(model.parameters())"
   ]
  },
  {
   "cell_type": "code",
   "execution_count": 28,
   "id": "8f3f16e0-56db-4e62-8eaa-fd8a07a691af",
   "metadata": {},
   "outputs": [
    {
     "name": "stdout",
     "output_type": "stream",
     "text": [
      "Epoch 0, Loss: 110.80382055044174\n",
      "Epoch 1, Loss: 91.55605208873749\n",
      "Epoch 2, Loss: 81.71985518932343\n",
      "Epoch 3, Loss: 77.97978407144547\n",
      "Epoch 4, Loss: 76.0988883972168\n",
      "Epoch 5, Loss: 74.79184007644653\n",
      "Epoch 6, Loss: 73.85478407144547\n",
      "Epoch 7, Loss: 73.10283815860748\n",
      "Epoch 8, Loss: 72.48034757375717\n",
      "Epoch 9, Loss: 71.91091549396515\n",
      "Epoch 10, Loss: 71.44183695316315\n",
      "Epoch 11, Loss: 70.88307642936707\n",
      "Epoch 12, Loss: 70.45466515421867\n",
      "Epoch 13, Loss: 70.14799293875694\n",
      "Epoch 14, Loss: 69.83221393823624\n",
      "Epoch 15, Loss: 69.39829313755035\n",
      "Epoch 16, Loss: 69.19498133659363\n",
      "Epoch 17, Loss: 68.8994157910347\n",
      "Epoch 18, Loss: 68.450164437294\n",
      "Epoch 19, Loss: 68.09627881646156\n",
      "Epoch 20, Loss: 67.89210516214371\n",
      "Epoch 21, Loss: 67.60527640581131\n",
      "Epoch 22, Loss: 67.26390215754509\n",
      "Epoch 23, Loss: 67.10875135660172\n",
      "Epoch 24, Loss: 66.78138250112534\n",
      "Epoch 25, Loss: 66.58845481276512\n",
      "Epoch 26, Loss: 66.28361040353775\n",
      "Epoch 27, Loss: 66.06096342206001\n",
      "Epoch 28, Loss: 66.03428518772125\n",
      "Epoch 29, Loss: 65.66656470298767\n",
      "Epoch 30, Loss: 65.52818387746811\n",
      "Epoch 31, Loss: 65.14139729738235\n",
      "Epoch 32, Loss: 64.85911270976067\n",
      "Epoch 33, Loss: 64.78306213021278\n",
      "Epoch 34, Loss: 64.65696901082993\n",
      "Epoch 35, Loss: 64.35149484872818\n",
      "Epoch 36, Loss: 64.15386509895325\n",
      "Epoch 37, Loss: 63.90854674577713\n",
      "Epoch 38, Loss: 63.69937625527382\n",
      "Epoch 39, Loss: 63.69582608342171\n",
      "Epoch 40, Loss: 63.46887278556824\n",
      "Epoch 41, Loss: 63.22768071293831\n",
      "Epoch 42, Loss: 63.07612445950508\n",
      "Epoch 43, Loss: 62.816736340522766\n",
      "Epoch 44, Loss: 62.74401405453682\n",
      "Epoch 45, Loss: 62.54301264882088\n",
      "Epoch 46, Loss: 62.455088049173355\n",
      "Epoch 47, Loss: 62.227229088544846\n",
      "Epoch 48, Loss: 61.968691408634186\n",
      "Epoch 49, Loss: 61.88740137219429\n",
      "Epoch 50, Loss: 61.80938085913658\n",
      "Epoch 51, Loss: 61.58468934893608\n",
      "Epoch 52, Loss: 61.426259875297546\n",
      "Epoch 53, Loss: 61.2441585958004\n",
      "Epoch 54, Loss: 61.00364911556244\n",
      "Epoch 55, Loss: 60.77185174822807\n",
      "Epoch 56, Loss: 60.64510351419449\n",
      "Epoch 57, Loss: 60.54396578669548\n",
      "Epoch 58, Loss: 60.5036139190197\n",
      "Epoch 59, Loss: 60.227676689624786\n",
      "Epoch 60, Loss: 60.01031446456909\n",
      "Epoch 61, Loss: 59.963617980480194\n",
      "Epoch 62, Loss: 59.690400421619415\n",
      "Epoch 63, Loss: 59.62842616438866\n",
      "Epoch 64, Loss: 59.470190197229385\n",
      "Epoch 65, Loss: 59.41590788960457\n",
      "Epoch 66, Loss: 59.20748320221901\n",
      "Epoch 67, Loss: 58.95383095741272\n",
      "Epoch 68, Loss: 58.742894142866135\n",
      "Epoch 69, Loss: 58.695194721221924\n",
      "Epoch 70, Loss: 58.46576872467995\n",
      "Epoch 71, Loss: 58.47719770669937\n",
      "Epoch 72, Loss: 58.32974636554718\n",
      "Epoch 73, Loss: 58.185484796762466\n",
      "Epoch 74, Loss: 57.94621816277504\n",
      "Epoch 75, Loss: 57.799642115831375\n",
      "Epoch 76, Loss: 57.74710476398468\n",
      "Epoch 77, Loss: 57.57516747713089\n",
      "Epoch 78, Loss: 57.41912105679512\n",
      "Epoch 79, Loss: 57.2990700006485\n"
     ]
    }
   ],
   "source": [
    "train_losses = []\n",
    "for e in range(NUM_EPOCHS):\n",
    "    curr_loss = 0\n",
    "    for X_batch, y_batch in train_loader:\n",
    "        optimizer.zero_grad()\n",
    "        y_pred_log = model(X_batch)\n",
    "        loss = criterion(y_pred_log, y_batch.long())\n",
    "        \n",
    "        curr_loss += loss.item()\n",
    "        loss.backward()\n",
    "        optimizer.step()\n",
    "    train_losses.append(curr_loss)\n",
    "    print(f\"Epoch {e}, Loss: {curr_loss}\")"
   ]
  },
  {
   "cell_type": "code",
   "execution_count": 29,
   "id": "dc9b5b23-5b4f-4e58-9da9-bfd4b819b305",
   "metadata": {},
   "outputs": [
    {
     "data": {
      "text/plain": [
       "<Axes: >"
      ]
     },
     "execution_count": 29,
     "metadata": {},
     "output_type": "execute_result"
    },
    {
     "data": {
      "image/png": "[encoded data removed]",
      "text/plain": [
       "<Figure size 640x480 with 1 Axes>"
      ]
     },
     "metadata": {},
     "output_type": "display_data"
    }
   ],
   "source": [
    "sns.lineplot(x=list(range(len(train_losses))), y= train_losses)"
   ]
  },
  {
   "cell_type": "code",
   "execution_count": 30,
   "id": "3f6305c7-5d83-4e05-9f11-e25eab7cda61",
   "metadata": {},
   "outputs": [],
   "source": [
    "with torch.no_grad():\n",
    "    for X_batch, y_batch in test_loader:\n",
    "        y_test_pred_log = model(X_batch)\n",
    "        y_test_pred = torch.argmax(y_test_pred_log, dim = 1)"
   ]
  },
  {
   "cell_type": "code",
   "execution_count": 31,
   "id": "4862ee3e-f0fa-4f8e-8faf-ac98b46e8925",
   "metadata": {},
   "outputs": [],
   "source": [
    "y_test_pred_np = y_test_pred.squeeze().cpu().numpy()"
   ]
  },
  {
   "cell_type": "code",
   "execution_count": 32,
   "id": "0e65c855-15b2-4aff-95bf-abedbf4898b7",
   "metadata": {},
   "outputs": [
    {
     "data": {
      "text/plain": [
       "'The accuracy of the model is 68.0%.'"
      ]
     },
     "execution_count": 32,
     "metadata": {},
     "output_type": "execute_result"
    }
   ],
   "source": [
    "acc = accuracy_score(y_pred=y_test_pred_np, y_true = y_test)\n",
    "f\"The accuracy of the model is {np.round(acc, 3)*100}%.\""
   ]
  },
  {
   "cell_type": "code",
   "execution_count": 33,
   "id": "eaa4f7fe-6a8b-4d44-a1a0-151d13363cfd",
   "metadata": {},
   "outputs": [
    {
     "name": "stdout",
     "output_type": "stream",
     "text": [
      "Naive Classifier: 41.0 %\n"
     ]
    }
   ],
   "source": [
    "most_common_cnt = Counter(y_test).most_common()[0][1]\n",
    "print(f\"Naive Classifier: {np.round(most_common_cnt / len(y_test) * 100, 1)} %\") # En yaygın sınıf"
   ]
  }
 ],
 "metadata": {
  "kernelspec": {
   "display_name": "Python 3 (ipykernel)",
   "language": "python",
   "name": "python3"
  },
  "language_info": {
   "codemirror_mode": {
    "name": "ipython",
    "version": 3
   },
   "file_extension": ".py",
   "mimetype": "text/x-python",
   "name": "python",
   "nbconvert_exporter": "python",
   "pygments_lexer": "ipython3",
   "version": "3.8.19"
  }
 },
 "nbformat": 4,
 "nbformat_minor": 5
}
