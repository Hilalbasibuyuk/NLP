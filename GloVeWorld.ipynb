{
 "cells": [
  {
   "cell_type": "code",
   "execution_count": 2,
   "id": "c8bd7f5f-879f-45f5-9935-c82454695219",
   "metadata": {},
   "outputs": [
    {
     "name": "stderr",
     "output_type": "stream",
     "text": [
      "C:\\Users\\hilal\\anaconda3\\envs\\pytorch\\lib\\site-packages\\torchtext\\vocab\\__init__.py:4: UserWarning: \n",
      "/!\\ IMPORTANT WARNING ABOUT TORCHTEXT STATUS /!\\ \n",
      "Torchtext is deprecated and the last released version will be 0.18 (this one). You can silence this warning by calling the following at the beginnign of your scripts: `import torchtext; torchtext.disable_torchtext_deprecation_warning()`\n",
      "  warnings.warn(torchtext._TORCHTEXT_DEPRECATION_MSG)\n",
      "C:\\Users\\hilal\\anaconda3\\envs\\pytorch\\lib\\site-packages\\torchtext\\utils.py:4: UserWarning: \n",
      "/!\\ IMPORTANT WARNING ABOUT TORCHTEXT STATUS /!\\ \n",
      "Torchtext is deprecated and the last released version will be 0.18 (this one). You can silence this warning by calling the following at the beginnign of your scripts: `import torchtext; torchtext.disable_torchtext_deprecation_warning()`\n",
      "  warnings.warn(torchtext._TORCHTEXT_DEPRECATION_MSG)\n"
     ]
    }
   ],
   "source": [
    "import torch\n",
    "import torchtext.vocab as vocab"
   ]
  },
  {
   "cell_type": "code",
   "execution_count": 5,
   "id": "b9ffa380-1626-4896-bf4d-268480c53df7",
   "metadata": {},
   "outputs": [
    {
     "name": "stderr",
     "output_type": "stream",
     "text": [
      ".vector_cache\\glove.6B.zip: 862MB [24:05, 596kB/s]                                \n",
      "100%|█████████▉| 399999/400000 [00:37<00:00, 10658.20it/s]\n"
     ]
    }
   ],
   "source": [
    "glove = vocab.GloVe(name = \"6B\", dim = 100)"
   ]
  },
  {
   "cell_type": "code",
   "execution_count": 6,
   "id": "8faf9744-4926-42bd-b24a-63a61b298e72",
   "metadata": {},
   "outputs": [
    {
     "data": {
      "text/plain": [
       "torch.Size([400000, 100])"
      ]
     },
     "execution_count": 6,
     "metadata": {},
     "output_type": "execute_result"
    }
   ],
   "source": [
    "glove.vectors.shape"
   ]
  },
  {
   "cell_type": "code",
   "execution_count": 7,
   "id": "ef83a124-7a2c-4400-bbf4-78ae4e690757",
   "metadata": {},
   "outputs": [
    {
     "data": {
      "text/plain": [
       "787"
      ]
     },
     "execution_count": 7,
     "metadata": {},
     "output_type": "execute_result"
    }
   ],
   "source": [
    "glove.stoi[\"woman\"] # index"
   ]
  },
  {
   "cell_type": "code",
   "execution_count": 8,
   "id": "3b0000aa-66a2-4d13-8b5a-b893c6fcc60b",
   "metadata": {},
   "outputs": [
    {
     "data": {
      "text/plain": [
       "300"
      ]
     },
     "execution_count": 8,
     "metadata": {},
     "output_type": "execute_result"
    }
   ],
   "source": [
    "glove.stoi[\"man\"]"
   ]
  },
  {
   "cell_type": "code",
   "execution_count": 9,
   "id": "74ca7dd7-d05c-4c13-8284-1c23ebd76a01",
   "metadata": {},
   "outputs": [
    {
     "data": {
      "text/plain": [
       "'woman'"
      ]
     },
     "execution_count": 9,
     "metadata": {},
     "output_type": "execute_result"
    }
   ],
   "source": [
    "glove.itos[787]"
   ]
  },
  {
   "cell_type": "code",
   "execution_count": 12,
   "id": "4a663d55-df35-4675-8943-c36c14401978",
   "metadata": {},
   "outputs": [],
   "source": [
    "def get_embedding_vector(word):\n",
    "    word_index = glove.stoi[word]\n",
    "    emb = glove.vectors[word_index]\n",
    "    return emb"
   ]
  },
  {
   "cell_type": "code",
   "execution_count": 13,
   "id": "bf04657f-11fa-4d5f-a7fa-084a1f8e86f8",
   "metadata": {},
   "outputs": [
    {
     "data": {
      "text/plain": [
       "tensor([ 3.7635e-01,  5.4567e-01,  3.0534e-01,  9.0395e-01, -8.8172e-02,\n",
       "         6.2945e-01,  4.0376e-01, -8.1160e-01, -1.9370e-01, -3.1395e-01,\n",
       "        -1.6067e-02, -6.8291e-01, -1.2400e-02, -2.0827e-01, -1.0267e+00,\n",
       "         1.4386e+00,  5.1816e-01,  2.0026e-01, -8.3672e-04, -2.9563e-01,\n",
       "        -7.5463e-01,  1.9618e-01,  6.0900e-01,  3.6774e-01,  7.2106e-01,\n",
       "        -8.6832e-01, -2.1198e-01, -4.3051e-01,  7.1873e-01,  7.5019e-01,\n",
       "        -6.0245e-01,  7.5618e-01, -5.5033e-01, -6.6510e-01,  5.3047e-01,\n",
       "        -2.2391e-01, -9.2297e-01,  6.2659e-01, -2.5183e-01, -8.2082e-01,\n",
       "        -1.6507e-01,  2.9234e-01, -2.6373e-01, -8.1124e-01, -4.0006e-02,\n",
       "        -1.3341e-01,  2.9392e-01, -4.4894e-01,  5.6080e-02,  3.9754e-01,\n",
       "        -6.8598e-01, -3.4001e-01, -1.1112e-02,  7.5445e-01,  2.8091e-01,\n",
       "        -1.4169e+00,  2.7837e-01,  3.4846e-01,  1.3482e-01,  1.2508e+00,\n",
       "        -8.0446e-02,  4.9207e-01, -7.0844e-01,  6.3239e-01, -3.8550e-01,\n",
       "        -4.9367e-01, -2.1818e-01,  7.6461e-01,  6.3680e-01,  1.0494e-02,\n",
       "        -1.9562e-01, -2.6752e-01,  4.4512e-01,  5.6729e-01, -9.4051e-01,\n",
       "         1.0706e-01,  6.9933e-01, -3.4509e-02, -1.7194e-01,  5.0608e-02,\n",
       "         3.8976e-01, -3.2920e-01,  8.5001e-02, -3.3619e-01, -6.2415e-01,\n",
       "         3.5335e-01, -6.0966e-01, -3.6996e-01,  6.6216e-01, -1.5296e-01,\n",
       "         1.9905e-01,  9.6856e-01, -3.5779e-01,  5.3459e-01,  7.2205e-01,\n",
       "        -4.9331e-01, -3.8660e-02, -1.8411e-01,  2.2157e-01,  3.6662e-01])"
      ]
     },
     "execution_count": 13,
     "metadata": {},
     "output_type": "execute_result"
    }
   ],
   "source": [
    "get_embedding_vector(\"chess\")"
   ]
  },
  {
   "cell_type": "code",
   "execution_count": 14,
   "id": "e5429992-0946-411d-8157-b2acc32e9aac",
   "metadata": {},
   "outputs": [
    {
     "data": {
      "text/plain": [
       "torch.Size([100])"
      ]
     },
     "execution_count": 14,
     "metadata": {},
     "output_type": "execute_result"
    }
   ],
   "source": [
    "get_embedding_vector(\"chess\").shape"
   ]
  },
  {
   "cell_type": "code",
   "execution_count": 15,
   "id": "a48009a9-269d-437b-9ac4-0a041e7bf803",
   "metadata": {},
   "outputs": [],
   "source": [
    "def get_closes_words_from_word(word, max_n = 5):\n",
    "    word_emb = get_embedding_vector(word)\n",
    "    distances = [(w, torch.dist(word_emb, get_embedding_vector(w)).cpu().item()) for w in glove.itos]\n",
    "    dist_sort_filt = sorted(distances, key = lambda x: x[1])[:max_n]\n",
    "    return dist_sort_filt"
   ]
  },
  {
   "cell_type": "code",
   "execution_count": 16,
   "id": "278ecfb4-fe99-4468-85e6-579955c6a837",
   "metadata": {},
   "outputs": [
    {
     "data": {
      "text/plain": [
       "[('chess', 0.0),\n",
       " ('backgammon', 4.379469394683838),\n",
       " ('grandmasters', 4.56368350982666),\n",
       " ('grandmaster', 4.613785743713379),\n",
       " ('scrabble', 4.677640438079834)]"
      ]
     },
     "execution_count": 16,
     "metadata": {},
     "output_type": "execute_result"
    }
   ],
   "source": [
    "get_closes_words_from_word(\"chess\")"
   ]
  },
  {
   "cell_type": "code",
   "execution_count": 17,
   "id": "17e69659-37bb-40fd-b600-554586d5174d",
   "metadata": {},
   "outputs": [],
   "source": [
    "def get_closes_words_from_embedding(word_emb, max_n = 5):\n",
    "    distances = [(w, torch.dist(word_emb, get_embedding_vector(w)).cpu().item()) for w in glove.itos]\n",
    "    dist_sort_filt = sorted(distances, key = lambda x: x[1])[:max_n]\n",
    "    return dist_sort_filt"
   ]
  },
  {
   "cell_type": "code",
   "execution_count": 20,
   "id": "679aa78c-cf1b-44c7-81a6-756f9d44fde0",
   "metadata": {},
   "outputs": [],
   "source": [
    "def get_word_analogy(word1, word2, word3, max_n = 5):\n",
    "    word1_emb = get_embedding_vector(word1)\n",
    "    word2_emb = get_embedding_vector(word2)\n",
    "    word3_emb = get_embedding_vector(word3)\n",
    "    word4_emb = word1_emb - word2_emb + word3_emb\n",
    "    analogy = get_closes_words_from_embedding(word4_emb)\n",
    "    return analogy"
   ]
  },
  {
   "cell_type": "code",
   "execution_count": 21,
   "id": "39ecc653-ac4f-49e9-9fd5-a13325891222",
   "metadata": {},
   "outputs": [
    {
     "data": {
      "text/plain": [
       "[('sister', 2.5398471355438232),\n",
       " ('niece', 2.700707197189331),\n",
       " ('granddaughter', 3.272900342941284),\n",
       " ('sister-in-law', 3.652935743331909),\n",
       " ('cousin', 3.657327651977539)]"
      ]
     },
     "execution_count": 21,
     "metadata": {},
     "output_type": "execute_result"
    }
   ],
   "source": [
    "get_word_analogy(word1 = \"sister\", word2 = \"brother\", word3 = \"nephew\")"
   ]
  }
 ],
 "metadata": {
  "kernelspec": {
   "display_name": "Python 3 (ipykernel)",
   "language": "python",
   "name": "python3"
  },
  "language_info": {
   "codemirror_mode": {
    "name": "ipython",
    "version": 3
   },
   "file_extension": ".py",
   "mimetype": "text/x-python",
   "name": "python",
   "nbconvert_exporter": "python",
   "pygments_lexer": "ipython3",
   "version": "3.8.19"
  }
 },
 "nbformat": 4,
 "nbformat_minor": 5
}
