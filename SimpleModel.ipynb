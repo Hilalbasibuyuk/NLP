{
 "cells": [
  {
   "cell_type": "code",
   "execution_count": 75,
   "id": "144c29f3-8fb9-4777-9565-6277244b23db",
   "metadata": {},
   "outputs": [],
   "source": [
    "from datasets import load_dataset\n",
    "import numpy as np\n",
    "import pandas as pd\n",
    "import torch\n",
    "import seaborn as sns\n",
    "from transformers import AutoModel, DistilBertTokenizer\n",
    "from sklearn.svm import SVC\n",
    "from sklearn.linear_model import LogisticRegression\n",
    "from sklearn.dummy import DummyClassifier\n",
    "from sklearn.ensemble import RandomForestClassifier\n",
    "from sklearn.naive_bayes import BernoulliNB, GaussianNB"
   ]
  },
  {
   "cell_type": "code",
   "execution_count": 2,
   "id": "6c2e2bf1-ca2b-42a9-ac78-d42a5ea252b1",
   "metadata": {},
   "outputs": [
    {
     "data": {
      "text/plain": [
       "DatasetDict({\n",
       "    train: Dataset({\n",
       "        features: ['label', 'text'],\n",
       "        num_rows: 650000\n",
       "    })\n",
       "    test: Dataset({\n",
       "        features: ['label', 'text'],\n",
       "        num_rows: 50000\n",
       "    })\n",
       "})"
      ]
     },
     "execution_count": 2,
     "metadata": {},
     "output_type": "execute_result"
    }
   ],
   "source": [
    "yelp = load_dataset(\"yelp_review_full\")\n",
    "yelp"
   ]
  },
  {
   "cell_type": "code",
   "execution_count": 3,
   "id": "4cff60f0-c215-4155-830b-b60c7a1e9350",
   "metadata": {},
   "outputs": [],
   "source": [
    "train_ds = yelp[\"train\"].select(range(1000))"
   ]
  },
  {
   "cell_type": "code",
   "execution_count": 4,
   "id": "53a00de5-94e3-4b6e-b68c-ef689f6be69a",
   "metadata": {},
   "outputs": [
    {
     "data": {
      "text/plain": [
       "Dataset({\n",
       "    features: ['label', 'text'],\n",
       "    num_rows: 1000\n",
       "})"
      ]
     },
     "execution_count": 4,
     "metadata": {},
     "output_type": "execute_result"
    }
   ],
   "source": [
    "train_ds"
   ]
  },
  {
   "cell_type": "code",
   "execution_count": 11,
   "id": "4cc628f8-3a9c-442d-b55f-fc2a9ee3576f",
   "metadata": {},
   "outputs": [],
   "source": [
    "model_name = \"distilbert/distilbert-base-uncased-finetuned-sst-2-english\""
   ]
  },
  {
   "cell_type": "code",
   "execution_count": 12,
   "id": "8755b6d7-05df-4645-b301-d938cb13ab41",
   "metadata": {},
   "outputs": [],
   "source": [
    "device = \"cuda\" if torch.cuda.is_available() else \"cpu\""
   ]
  },
  {
   "cell_type": "code",
   "execution_count": 13,
   "id": "d31d0b3e-4879-4102-b97f-368c402b262e",
   "metadata": {},
   "outputs": [
    {
     "data": {
      "text/plain": [
       "'cuda'"
      ]
     },
     "execution_count": 13,
     "metadata": {},
     "output_type": "execute_result"
    }
   ],
   "source": [
    "device"
   ]
  },
  {
   "cell_type": "code",
   "execution_count": 14,
   "id": "de530b38-4703-4ecb-b491-603533787062",
   "metadata": {},
   "outputs": [
    {
     "data": {
      "application/vnd.jupyter.widget-view+json": {
       "model_id": "2487fa2f7adf4ff38e00c7ee86e7733e",
       "version_major": 2,
       "version_minor": 0
      },
      "text/plain": [
       "model.safetensors:   0%|          | 0.00/268M [00:00<?, ?B/s]"
      ]
     },
     "metadata": {},
     "output_type": "display_data"
    },
    {
     "name": "stderr",
     "output_type": "stream",
     "text": [
      "C:\\Users\\hilal\\anaconda3\\envs\\pytorch\\lib\\site-packages\\huggingface_hub\\file_download.py:159: UserWarning: `huggingface_hub` cache-system uses symlinks by default to efficiently store duplicated files but your machine does not support them in C:\\Users\\hilal\\.cache\\huggingface\\hub\\models--distilbert--distilbert-base-uncased-finetuned-sst-2-english. Caching files will still work but in a degraded version that might require more space on your disk. This warning can be disabled by setting the `HF_HUB_DISABLE_SYMLINKS_WARNING` environment variable. For more details, see https://huggingface.co/docs/huggingface_hub/how-to-cache#limitations.\n",
      "To support symlinks on Windows, you either need to activate Developer Mode or to run Python as an administrator. In order to see activate developer mode, see this article: https://docs.microsoft.com/en-us/windows/apps/get-started/enable-your-device-for-development\n",
      "  warnings.warn(message)\n"
     ]
    }
   ],
   "source": [
    "model = AutoModel.from_pretrained(model_name).to(device)"
   ]
  },
  {
   "cell_type": "code",
   "execution_count": 15,
   "id": "680108a1-0bca-4399-a115-e7d520d4d0b1",
   "metadata": {},
   "outputs": [
    {
     "data": {
      "application/vnd.jupyter.widget-view+json": {
       "model_id": "a65e1e24cc514b9d91f54f03e6ea90b1",
       "version_major": 2,
       "version_minor": 0
      },
      "text/plain": [
       "tokenizer_config.json:   0%|          | 0.00/48.0 [00:00<?, ?B/s]"
      ]
     },
     "metadata": {},
     "output_type": "display_data"
    },
    {
     "data": {
      "application/vnd.jupyter.widget-view+json": {
       "model_id": "522cf853e91a47f69f270ebdf3e680da",
       "version_major": 2,
       "version_minor": 0
      },
      "text/plain": [
       "vocab.txt:   0%|          | 0.00/232k [00:00<?, ?B/s]"
      ]
     },
     "metadata": {},
     "output_type": "display_data"
    }
   ],
   "source": [
    "tokenizer = DistilBertTokenizer.from_pretrained(model_name)"
   ]
  },
  {
   "cell_type": "code",
   "execution_count": 16,
   "id": "a6cff660-f6f1-4b73-b38f-18bd13d4426d",
   "metadata": {},
   "outputs": [],
   "source": [
    "text = \"Hello, this is a sample sentence\""
   ]
  },
  {
   "cell_type": "code",
   "execution_count": 37,
   "id": "4085d046-f60a-4e51-88e6-0c1dad589f5a",
   "metadata": {},
   "outputs": [
    {
     "data": {
      "text/plain": [
       "{'input_ids': tensor([[ 101, 7592, 1010, 2023, 2003, 1037, 7099, 6251,  102]],\n",
       "       device='cuda:0'), 'attention_mask': tensor([[1, 1, 1, 1, 1, 1, 1, 1, 1]], device='cuda:0')}"
      ]
     },
     "execution_count": 37,
     "metadata": {},
     "output_type": "execute_result"
    }
   ],
   "source": [
    "encoded_text = tokenizer(text, return_tensors = \"pt\").to(device)\n",
    "encoded_text"
   ]
  },
  {
   "cell_type": "code",
   "execution_count": 38,
   "id": "0acedddf-afa6-4c01-84cd-69f9f1a1fd4c",
   "metadata": {},
   "outputs": [
    {
     "data": {
      "text/plain": [
       "tensor([ 101, 7592, 1010, 2023, 2003, 1037, 7099, 6251,  102], device='cuda:0')"
      ]
     },
     "execution_count": 38,
     "metadata": {},
     "output_type": "execute_result"
    }
   ],
   "source": [
    "encoded_text[\"input_ids\"][0]"
   ]
  },
  {
   "cell_type": "code",
   "execution_count": 39,
   "id": "f19a390c-9c6f-409e-9619-6d00e8b7a384",
   "metadata": {},
   "outputs": [],
   "source": [
    "tokens = tokenizer.convert_ids_to_tokens(encoded_text[\"input_ids\"][0])"
   ]
  },
  {
   "cell_type": "code",
   "execution_count": 40,
   "id": "cde21f0a-6e15-499a-8baa-c484f975c459",
   "metadata": {},
   "outputs": [
    {
     "data": {
      "text/plain": [
       "['[CLS]', 'hello', ',', 'this', 'is', 'a', 'sample', 'sentence', '[SEP]']"
      ]
     },
     "execution_count": 40,
     "metadata": {},
     "output_type": "execute_result"
    }
   ],
   "source": [
    "tokens"
   ]
  },
  {
   "cell_type": "code",
   "execution_count": 41,
   "id": "03750db3-adf8-49d6-a8c2-8e0e4c35855b",
   "metadata": {},
   "outputs": [
    {
     "data": {
      "text/plain": [
       "'[CLS] hello , this is a sample sentence [SEP]'"
      ]
     },
     "execution_count": 41,
     "metadata": {},
     "output_type": "execute_result"
    }
   ],
   "source": [
    "tokenizer.convert_tokens_to_string(tokens)"
   ]
  },
  {
   "cell_type": "code",
   "execution_count": 42,
   "id": "96621b26-95e8-4417-b9c5-3ee683f44c06",
   "metadata": {},
   "outputs": [
    {
     "data": {
      "text/plain": [
       "30522"
      ]
     },
     "execution_count": 42,
     "metadata": {},
     "output_type": "execute_result"
    }
   ],
   "source": [
    "tokenizer.vocab_size"
   ]
  },
  {
   "cell_type": "code",
   "execution_count": 43,
   "id": "b95593a9-d55a-4901-b2cb-62eaaa856b23",
   "metadata": {},
   "outputs": [
    {
     "data": {
      "text/plain": [
       "512"
      ]
     },
     "execution_count": 43,
     "metadata": {},
     "output_type": "execute_result"
    }
   ],
   "source": [
    "max_context_length = tokenizer.model_max_length\n",
    "max_context_length"
   ]
  },
  {
   "cell_type": "code",
   "execution_count": 44,
   "id": "6e9deb25-8cff-4713-b7cb-4528aba40b12",
   "metadata": {},
   "outputs": [],
   "source": [
    "def tokenize_text(batch):\n",
    "    return tokenizer(batch['text'], return_tensors='pt', padding='max_length', truncation=True)"
   ]
  },
  {
   "cell_type": "code",
   "execution_count": 45,
   "id": "d330d15e-2cb8-41f8-a153-31097168252e",
   "metadata": {},
   "outputs": [],
   "source": [
    "yelp_encodings = train_ds.map(tokenize_text, batched=True, batch_size=128)"
   ]
  },
  {
   "cell_type": "code",
   "execution_count": 47,
   "id": "7743db95-f214-499e-bc9c-337bc1bd1245",
   "metadata": {},
   "outputs": [],
   "source": [
    "yelp_encodings.set_format('torch', columns=['input_ids', 'attention_mask', 'label'])  # encodings need to be converted to torch tensors"
   ]
  },
  {
   "cell_type": "code",
   "execution_count": 48,
   "id": "5fcba69d-1b32-498d-9b25-131d72e1f6a3",
   "metadata": {},
   "outputs": [],
   "source": [
    "def get_last_hidden_state(batch):\n",
    "    inputs = {k: v.to(device) for k, v in batch.items() if k in tokenizer.model_input_names}\n",
    "    with torch.no_grad():\n",
    "        last_hidden_state = model(**inputs).last_hidden_state\n",
    "    return {'hidden_state': last_hidden_state[:, 0]}"
   ]
  },
  {
   "cell_type": "code",
   "execution_count": 51,
   "id": "c6454d4a-7e5f-435f-9c15-2c4e7cb2101d",
   "metadata": {},
   "outputs": [
    {
     "data": {
      "application/vnd.jupyter.widget-view+json": {
       "model_id": "42bbff33ee514842ac069a637a3b3728",
       "version_major": 2,
       "version_minor": 0
      },
      "text/plain": [
       "Map:   0%|          | 0/1000 [00:00<?, ? examples/s]"
      ]
     },
     "metadata": {},
     "output_type": "display_data"
    }
   ],
   "source": [
    "yelp_hidden_states = yelp_encodings.map(get_last_hidden_state, batched=True, batch_size=16)  # will have additional column 'hidden_state'"
   ]
  },
  {
   "cell_type": "code",
   "execution_count": 52,
   "id": "f7d7eb43-6f29-4137-8b2c-13e0c7a36eb3",
   "metadata": {},
   "outputs": [
    {
     "data": {
      "text/plain": [
       "Dataset({\n",
       "    features: ['label', 'text', 'input_ids', 'attention_mask', 'hidden_state'],\n",
       "    num_rows: 1000\n",
       "})"
      ]
     },
     "execution_count": 52,
     "metadata": {},
     "output_type": "execute_result"
    }
   ],
   "source": [
    "yelp_hidden_states"
   ]
  },
  {
   "cell_type": "code",
   "execution_count": 54,
   "id": "2c33a43c-4964-4ef1-a89e-597e65ff550b",
   "metadata": {},
   "outputs": [
    {
     "data": {
      "text/plain": [
       "['yelp_hidden_states.joblib']"
      ]
     },
     "execution_count": 54,
     "metadata": {},
     "output_type": "execute_result"
    }
   ],
   "source": [
    "import joblib\n",
    "joblib.dump(yelp_hidden_states, 'yelp_hidden_states.joblib')"
   ]
  },
  {
   "cell_type": "code",
   "execution_count": 55,
   "id": "8aacf4f8-c072-4da1-a136-3eb9b0d1ce60",
   "metadata": {},
   "outputs": [],
   "source": [
    "cutoff = 800\n",
    "x_train = np.array(yelp_hidden_states['hidden_state'][:cutoff])\n",
    "y_train = np.array(yelp_hidden_states['label'][:cutoff])\n",
    "x_test = np.array(yelp_hidden_states['hidden_state'][cutoff: ])\n",
    "y_test = np.array(yelp_hidden_states['label'][cutoff: ])"
   ]
  },
  {
   "cell_type": "code",
   "execution_count": 57,
   "id": "49322f49-5804-4f9d-ab98-2d24418e9466",
   "metadata": {},
   "outputs": [
    {
     "name": "stdout",
     "output_type": "stream",
     "text": [
      "x_train.shape: (800, 768), y_train.shape: (800,)\n",
      "x_test.shape: (200, 768), y_test.shape: (200,)\n"
     ]
    }
   ],
   "source": [
    "print(f\"x_train.shape: {x_train.shape}, y_train.shape: {y_train.shape}\")\n",
    "print(f\"x_test.shape: {x_test.shape}, y_test.shape: {y_test.shape}\")"
   ]
  },
  {
   "cell_type": "code",
   "execution_count": 58,
   "id": "54c683c2-d45e-48df-bbf6-68703aadf470",
   "metadata": {},
   "outputs": [
    {
     "data": {
      "text/plain": [
       "0.165"
      ]
     },
     "execution_count": 58,
     "metadata": {},
     "output_type": "execute_result"
    }
   ],
   "source": [
    "# Dummy Model\n",
    "dummy_model = DummyClassifier(strategy = \"most_frequent\")\n",
    "dummy_model.fit(x_train, y_train)\n",
    "dummy_model.score(x_test, y_test)"
   ]
  },
  {
   "cell_type": "code",
   "execution_count": 59,
   "id": "6a44dfb2-8d32-41f8-8465-1f0bd3f45ab9",
   "metadata": {},
   "outputs": [
    {
     "data": {
      "text/plain": [
       "0.475"
      ]
     },
     "execution_count": 59,
     "metadata": {},
     "output_type": "execute_result"
    }
   ],
   "source": [
    "# SVM Model\n",
    "svm_model = SVC(kernel = \"linear\", C = 1.0, random_state = 42)\n",
    "svm_model.fit(x_train, y_train)\n",
    "svm_model.score(x_test, y_test)"
   ]
  },
  {
   "cell_type": "code",
   "execution_count": 62,
   "id": "04c45dd0-1007-4684-b9eb-c30061fe56da",
   "metadata": {},
   "outputs": [
    {
     "name": "stderr",
     "output_type": "stream",
     "text": [
      "C:\\Users\\hilal\\anaconda3\\envs\\pytorch\\lib\\site-packages\\sklearn\\linear_model\\_logistic.py:460: ConvergenceWarning: lbfgs failed to converge (status=1):\n",
      "STOP: TOTAL NO. of ITERATIONS REACHED LIMIT.\n",
      "\n",
      "Increase the number of iterations (max_iter) or scale the data as shown in:\n",
      "    https://scikit-learn.org/stable/modules/preprocessing.html\n",
      "Please also refer to the documentation for alternative solver options:\n",
      "    https://scikit-learn.org/stable/modules/linear_model.html#logistic-regression\n",
      "  n_iter_i = _check_optimize_result(\n"
     ]
    },
    {
     "data": {
      "text/plain": [
       "0.46"
      ]
     },
     "execution_count": 62,
     "metadata": {},
     "output_type": "execute_result"
    }
   ],
   "source": [
    "# Logistic Regression\n",
    "lr_model = LogisticRegression(random_state = 42)\n",
    "lr_model.fit(x_train, y_train)\n",
    "lr_model.score(x_test, y_test)"
   ]
  },
  {
   "cell_type": "code",
   "execution_count": 65,
   "id": "62301a05-91bf-4a34-bee0-74588ad4111b",
   "metadata": {},
   "outputs": [
    {
     "data": {
      "text/plain": [
       "0.435"
      ]
     },
     "execution_count": 65,
     "metadata": {},
     "output_type": "execute_result"
    }
   ],
   "source": [
    "# Random Forest Classifier\n",
    "rfc_model = RandomForestClassifier(random_state = 42)\n",
    "rfc_model.fit(x_train, y_train)\n",
    "rfc_model.score(x_test, y_test)"
   ]
  },
  {
   "cell_type": "code",
   "execution_count": 76,
   "id": "d83f9063-f5d0-4861-bf61-24e1e73bfa19",
   "metadata": {},
   "outputs": [
    {
     "data": {
      "text/plain": [
       "0.36"
      ]
     },
     "execution_count": 76,
     "metadata": {},
     "output_type": "execute_result"
    }
   ],
   "source": [
    "# BernoulliNB\n",
    "BNB = BernoulliNB( force_alpha=True, fit_prior=True)\n",
    "BNB.fit(x_train, y_train)\n",
    "BNB.score(x_test, y_test)"
   ]
  },
  {
   "cell_type": "code",
   "execution_count": 77,
   "id": "9e50ef03-02cf-4655-83ad-a2ad9fc4a766",
   "metadata": {},
   "outputs": [
    {
     "data": {
      "text/plain": [
       "0.365"
      ]
     },
     "execution_count": 77,
     "metadata": {},
     "output_type": "execute_result"
    }
   ],
   "source": [
    "# GaussianNB\n",
    "GNB = GaussianNB()\n",
    "GNB.fit(x_train, y_train)\n",
    "GNB.score(x_test, y_test)"
   ]
  }
 ],
 "metadata": {
  "kernelspec": {
   "display_name": "Python 3 (ipykernel)",
   "language": "python",
   "name": "python3"
  },
  "language_info": {
   "codemirror_mode": {
    "name": "ipython",
    "version": 3
   },
   "file_extension": ".py",
   "mimetype": "text/x-python",
   "name": "python",
   "nbconvert_exporter": "python",
   "pygments_lexer": "ipython3",
   "version": "3.8.19"
  }
 },
 "nbformat": 4,
 "nbformat_minor": 5
}
