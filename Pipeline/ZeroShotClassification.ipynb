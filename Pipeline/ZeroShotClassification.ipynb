{
 "cells": [
  {
   "cell_type": "code",
   "execution_count": 1,
   "id": "a1cd9469-2d26-4ec7-97f0-da1d92f7106d",
   "metadata": {},
   "outputs": [
    {
     "name": "stderr",
     "output_type": "stream",
     "text": [
      "c:\\Users\\hilal\\AppData\\Local\\Programs\\Python\\Python39\\lib\\site-packages\\tqdm\\auto.py:21: TqdmWarning: IProgress not found. Please update jupyter and ipywidgets. See https://ipywidgets.readthedocs.io/en/stable/user_install.html\n",
      "  from .autonotebook import tqdm as notebook_tqdm\n"
     ]
    }
   ],
   "source": [
    "from transformers import pipeline\n",
    "import pandas as pd"
   ]
  },
  {
   "cell_type": "code",
   "execution_count": null,
   "id": "fca2a656",
   "metadata": {},
   "outputs": [],
   "source": [
    "classifier = pipeline(\"zero-shot-classification\", model=\"facebook/bart-large-mnli\")"
   ]
  },
  {
   "cell_type": "code",
   "execution_count": null,
   "id": "5f73a6f0-fe54-4051-87d3-0a3ad0b95414",
   "metadata": {},
   "outputs": [],
   "source": [
    "documents = [\"It was about eleven o’clock in the morning, mid October, with the sun not shining and a look of hard wet rain in the clearness of the foothills. I was wearing my powder-blue suit, with dark blue shirt, tie and display handkerchief, black brogues, black wool socks with dark blue clocks on them. I was neat, clean, shaved and sober, and I didn’t care who knew it. I was everything the well-dressed private detective ought to be. I was calling on four million dollars.\",\n",
    "             \"When Mr. Bilbo Baggins of Bag End announced that he would shortly be celebrating his eleventy-first birthday with a party of special magnificence, there was much talk and excitement in Hobbiton.\",\n",
    "             \"Welcome. And congratulations. I am delighted that you could make it. Getting here wasn’t easy, I know. In fact, I suspect it was a little tougher than you realize. To begin with, for you to be here now trillions of drifting atoms had somehow to assemble in an intricate and curiously obliging manner to create you. It’s an arrangement so specialized and particular that it has never been tried before and will only exist this once.\"\n",
    "             ]"
   ]
  },
  {
   "cell_type": "code",
   "execution_count": null,
   "id": "5c7637b2-f8f3-4657-bef0-7c94f34bfa29",
   "metadata": {},
   "outputs": [],
   "source": [
    "candidate_labels=[\"history\", \"crime\", \"fantasy\"]"
   ]
  },
  {
   "cell_type": "code",
   "execution_count": null,
   "id": "66031f7d-a2bf-44e2-90d1-19a4bbee6328",
   "metadata": {},
   "outputs": [],
   "source": [
    "res = classifier(documents, candidate_labels = candidate_labels)"
   ]
  },
  {
   "cell_type": "code",
   "execution_count": null,
   "id": "9802c9a3-6fc7-4828-abd4-037278c6ff20",
   "metadata": {},
   "outputs": [],
   "source": [
    "res"
   ]
  },
  {
   "cell_type": "code",
   "execution_count": null,
   "id": "5c209cdd-785f-41b6-b5b3-54508b954012",
   "metadata": {},
   "outputs": [],
   "source": [
    "res[1]"
   ]
  },
  {
   "cell_type": "code",
   "execution_count": null,
   "id": "0eb3607c-1c5e-469f-893a-971ae70cd267",
   "metadata": {},
   "outputs": [],
   "source": [
    "pd.DataFrame(res[1]).plot.bar(x='labels', y='scores', title='Lord of the Rings')"
   ]
  },
  {
   "cell_type": "code",
   "execution_count": null,
   "id": "77132c18-1f1b-4fa1-99c4-3f4ef0f87d47",
   "metadata": {},
   "outputs": [],
   "source": [
    "classifier(documents[0], candidate_labels = candidate_labels, multi_label=False)"
   ]
  }
 ],
 "metadata": {
  "kernelspec": {
   "display_name": "Python 3 (ipykernel)",
   "language": "python",
   "name": "python3"
  },
  "language_info": {
   "codemirror_mode": {
    "name": "ipython",
    "version": 3
   },
   "file_extension": ".py",
   "mimetype": "text/x-python",
   "name": "python",
   "nbconvert_exporter": "python",
   "pygments_lexer": "ipython3",
   "version": "3.9.0"
  }
 },
 "nbformat": 4,
 "nbformat_minor": 5
}
